{
 "cells": [
  {
   "cell_type": "markdown",
   "metadata": {
    "id": "mZfj9fMxlSZ6"
   },
   "source": [
    "# Folders"
   ]
  },
  {
   "cell_type": "code",
   "execution_count": null,
   "metadata": {
    "executionInfo": {
     "elapsed": 153,
     "status": "ok",
     "timestamp": 1755511243345,
     "user": {
      "displayName": "Ильяс Варшавский",
      "userId": "01979085533608609891"
     },
     "user_tz": -300
    },
    "id": "uvXxqnavlUOO"
   },
   "outputs": [],
   "source": [
    "data_folder = '/data/'\n",
    "prepr_data_folder = '/data/preprocessed/'"
   ]
  },
  {
   "cell_type": "markdown",
   "metadata": {
    "id": "Dg2HlNMDjCEn"
   },
   "source": [
    "# Import Libs"
   ]
  },
  {
   "cell_type": "code",
   "execution_count": null,
   "metadata": {
    "executionInfo": {
     "elapsed": 10254,
     "status": "ok",
     "timestamp": 1755511434061,
     "user": {
      "displayName": "Ильяс Варшавский",
      "userId": "01979085533608609891"
     },
     "user_tz": -300
    },
    "id": "ZL7Dh3BDjFNS"
   },
   "outputs": [],
   "source": [
    "import kagglehub\n",
    "import json\n",
    "import gc\n",
    "import pandas as pd\n",
    "import numpy as np\n",
    "import matplotlib.pyplot as plt\n",
    "from sklearn.metrics import roc_auc_score\n",
    "from catboost import CatBoostClassifier, Pool\n",
    "from sklearn.model_selection import train_test_split\n",
    "import requests\n",
    "import time\n",
    "from src.calculations_new import distribution_shift"
   ]
  },
  {
   "cell_type": "markdown",
   "metadata": {
    "id": "G4u-ay6cqFWW"
   },
   "source": [
    "# Functions"
   ]
  },
  {
   "cell_type": "code",
   "execution_count": null,
   "metadata": {
    "executionInfo": {
     "elapsed": 161,
     "status": "ok",
     "timestamp": 1755511647483,
     "user": {
      "displayName": "Ильяс Варшавский",
      "userId": "01979085533608609891"
     },
     "user_tz": -300
    },
    "id": "lx7XN4bQqJLX"
   },
   "outputs": [],
   "source": [
    "def prepare_data(df, drop_cols, date_col, target_col):\n",
    "    \"\"\"Removes unnecessary columns, converts date and target, and fills missing values.\"\"\"\n",
    "    df = df.copy()\n",
    "\n",
    "    df.drop(columns=drop_cols, inplace=True, errors=\"ignore\")\n",
    "\n",
    "    df[date_col] = pd.to_datetime(df[date_col])\n",
    "\n",
    "    if df[target_col].dtype == 'bool':\n",
    "        df[target_col] = df[target_col].astype(int)\n",
    "    else:\n",
    "        mapping = {True: 1, False: 0, 'True': 1, 'False': 0,\n",
    "                   'true': 1, 'false': 0, 'Yes': 1, 'No': 0, 'Y': 1, 'N': 0}\n",
    "        df[target_col] = df[target_col].replace(mapping).astype(int)\n",
    "\n",
    "    for col in df.select_dtypes(include=['object']).columns:\n",
    "        df[col] = df[col].fillna('None')\n",
    "\n",
    "    return df\n",
    "\n",
    "\n",
    "def split_by_time(df, date_col, target_col, train_frac=0.7, oos_frac=0.2):\n",
    "    \"\"\"Splits the data into train, OOS, and OOT sets based on time.\"\"\"\n",
    "    df = df.sort_values(date_col).reset_index(drop=True)\n",
    "    n = len(df)\n",
    "    i_train_end = int(n * train_frac)\n",
    "    i_oos_end = i_train_end + int(n * oos_frac)\n",
    "\n",
    "    train = df.iloc[:i_train_end].reset_index(drop=True)\n",
    "    oos = df.iloc[i_train_end:i_oos_end].reset_index(drop=True)\n",
    "    oot = df.iloc[i_oos_end:].reset_index(drop=True)\n",
    "    return train, oos, oot\n",
    "\n",
    "\n",
    "def get_cat_features(df):\n",
    "    \"\"\"Returns a list of categorical features.\"\"\"\n",
    "    cat_features = [c for c in df.columns if df[c].dtype == 'object'\n",
    "                    or df[c].dtype.name == 'category'\n",
    "                    or df[c].dtype == 'bool']\n",
    "    for c in df.columns:\n",
    "        if c not in cat_features and df[c].nunique() <= 10 and df[c].dtype.kind in 'iuf':\n",
    "            cat_features.append(c)\n",
    "    return list(dict.fromkeys(cat_features))\n",
    "\n",
    "\n",
    "def train_catboost(X_train, y_train, X_val, y_val, cat_features, random_state=42):\n",
    "    \"\"\"Trains a CatBoostClassifier and returns the model.\"\"\"\n",
    "    pool_train = Pool(X_train, label=y_train, cat_features=cat_features)\n",
    "    pool_val = Pool(X_val, label=y_val, cat_features=cat_features)\n",
    "\n",
    "    model = CatBoostClassifier(\n",
    "\n",
    "        verbose=100\n",
    "    )\n",
    "\n",
    "    model.fit(pool_train, eval_set=pool_val, use_best_model=True)\n",
    "    return model\n",
    "\n",
    "\n",
    "def evaluate_auc(model, X, y):\n",
    "    \"\"\"Calculates the AUC for the given data.\"\"\"\n",
    "    preds = model.predict_proba(X)[:, 1]\n",
    "    return roc_auc_score(y, preds) if len(np.unique(y)) > 1 else float('nan')"
   ]
  },
  {
   "cell_type": "code",
   "execution_count": null,
   "metadata": {
    "executionInfo": {
     "elapsed": 152,
     "status": "ok",
     "timestamp": 1755511648382,
     "user": {
      "displayName": "Ильяс Варшавский",
      "userId": "01979085533608609891"
     },
     "user_tz": -300
    },
    "id": "tsU3VtaU10JQ"
   },
   "outputs": [],
   "source": [
    "def plot_feature_importances(model, feature_names, top_n=20):\n",
    "    \"\"\"Plots the feature importance for CatBoost.\"\"\"\n",
    "    importances = model.feature_importances_\n",
    "    idx_sorted = np.argsort(importances)[::-1][:top_n]\n",
    "    plt.figure(figsize=(8, 6))\n",
    "    plt.barh(range(len(idx_sorted)), importances[idx_sorted], align=\"center\")\n",
    "    plt.yticks(range(len(idx_sorted)), [feature_names[i] for i in idx_sorted])\n",
    "    plt.xlabel(\"Feature Importance\")\n",
    "    plt.title(\"CatBoost Feature Importances\")\n",
    "    plt.gca().invert_yaxis()\n",
    "    plt.show()"
   ]
  },
  {
   "cell_type": "code",
   "execution_count": null,
   "metadata": {
    "executionInfo": {
     "elapsed": 196,
     "status": "ok",
     "timestamp": 1755511648954,
     "user": {
      "displayName": "Ильяс Варшавский",
      "userId": "01979085533608609891"
     },
     "user_tz": -300
    },
    "id": "w5uVwDpVJvmQ"
   },
   "outputs": [],
   "source": [
    "def add_macro_features_fixed(df, api_key=\"YOUR API KEY\"):\n",
    "    \"\"\"\n",
    "    Adds macroeconomic features to the dataset.\n",
    "    \"\"\"\n",
    "\n",
    "    print(\"🔄 Starting to add macroeconomic indicators...\")\n",
    "\n",
    "    # Mapping of correct state-level unemployment series IDs\n",
    "    STATE_UNEMPLOYMENT_SERIES = {\n",
    "        'AL': 'ALUR',   'AK': 'AKUR',   'AZ': 'AZUR',   'AR': 'ARUR',   'CA': 'CAUR',\n",
    "        'CO': 'COUR',   'CT': 'CTUR',   'DE': 'DEUR',   'FL': 'FLUR',   'GA': 'GAUR',\n",
    "        'HI': 'HIUR',   'ID': 'IDUR',   'IL': 'ILUR',   'IN': 'INUR',   'IA': 'IAUR',\n",
    "        'KS': 'KSUR',   'KY': 'KYUR',   'LA': 'LAUR',   'ME': 'MEUR',   'MD': 'MDUR',\n",
    "        'MA': 'MAUR',   'MI': 'MIUR',   'MN': 'MNUR',   'MS': 'MSUR',   'MO': 'MOUR',\n",
    "        'MT': 'MTUR',   'NE': 'NEUR',   'NV': 'NVUR',   'NH': 'NHUR',   'NJ': 'NJUR',\n",
    "        'NM': 'NMUR',   'NY': 'NYUR',   'NC': 'NCUR',   'ND': 'NDUR',   'OH': 'OHUR',\n",
    "        'OK': 'OKUR',   'OR': 'ORUR',   'PA': 'PAUR',   'RI': 'RIUR',   'SC': 'SCUR',\n",
    "        'SD': 'SDUR',   'TN': 'TNUR',   'TX': 'TXUR',   'UT': 'UTUR',   'VT': 'VTUR',\n",
    "        'VA': 'VAUR',   'WA': 'WAUR',   'WV': 'WVUR',   'WI': 'WIUR',   'WY': 'WYUR',\n",
    "        'DC': 'DCUR'\n",
    "    }\n",
    "\n",
    "    result_df = df.copy()\n",
    "    result_df['unemployment_rate'] = np.nan\n",
    "    result_df['federal_funds_rate'] = np.nan\n",
    "\n",
    "    date_col = 'year_month'\n",
    "    if 'issue_d' in df.columns:\n",
    "        date_col = 'issue_d'\n",
    "    elif 'year_month' not in df.columns:\n",
    "        raise ValueError(\"The data must contain a 'year_month' or 'issue_d' column.\")\n",
    "\n",
    "    result_df['date'] = pd.to_datetime(result_df[date_col], errors='coerce')\n",
    "\n",
    "    groups = result_df.groupby(['addr_state', pd.Grouper(key='date', freq='M')])\n",
    "    processed_ff_dates = set()\n",
    "\n",
    "    for (state, date), group_idx in groups.groups.items():\n",
    "        if pd.isna(state) or pd.isna(date):\n",
    "            continue\n",
    "\n",
    "        state_upper = state.upper()\n",
    "        print(f\"→ Fetching data for {state_upper} for {date.strftime('%Y-%m')}\")\n",
    "\n",
    "        if state_upper in STATE_UNEMPLOYMENT_SERIES:\n",
    "            series_id = STATE_UNEMPLOYMENT_SERIES[state_upper]\n",
    "            unemployment_rate = _get_fred_series(api_key, series_id, date)\n",
    "            result_df.loc[group_idx, 'unemployment_rate'] = unemployment_rate\n",
    "        else:\n",
    "            print(f\"⚠️ No data available for state {state_upper}\")\n",
    "\n",
    "        date_key = date.strftime('%Y-%m')\n",
    "        if date_key not in processed_ff_dates:\n",
    "            ff_series_id = \"DFF\"\n",
    "            federal_rate = _get_fred_series(api_key, ff_series_id, date)\n",
    "\n",
    "            same_month_mask = result_df['date'].dt.to_period('M') == date.to_period('M')\n",
    "            result_df.loc[same_month_mask, 'federal_funds_rate'] = federal_rate\n",
    "            processed_ff_dates.add(date_key)\n",
    "\n",
    "        time.sleep(0.5)\n",
    "\n",
    "    print(f\"✅ Records processed: {len(result_df)}\")\n",
    "    print(f\"📊 Missing unemployment data: {result_df['unemployment_rate'].isna().sum()}\")\n",
    "    print(f\"📊 Missing federal funds rate data: {result_df['federal_funds_rate'].isna().sum()}\")\n",
    "\n",
    "\n",
    "    return result_df.drop(columns=['date'])\n",
    "\n",
    "def _get_fred_series(api_key, series_id, target_date, max_retries=2):\n",
    "    \"\"\"\n",
    "    Function to fetch data with flexible date search.\n",
    "    \"\"\"\n",
    "\n",
    "    date_start = target_date.replace(day=1)\n",
    "    date_end = (target_date.replace(day=1) + pd.DateOffset(months=1) - pd.Timedelta(days=1))\n",
    "\n",
    "    url = (\n",
    "        f\"https://api.stlouisfed.org/fred/series/observations?\"\n",
    "        f\"series_id={series_id}&\"\n",
    "        f\"observation_start={date_start.strftime('%Y-%m-%d')}&\"\n",
    "        f\"observation_end={date_end.strftime('%Y-%m-%d')}&\"\n",
    "        f\"api_key={api_key}&\"\n",
    "        f\"file_type=json\"\n",
    "    )\n",
    "\n",
    "    for attempt in range(max_retries):\n",
    "        try:\n",
    "            response = requests.get(url, timeout=10)\n",
    "            response.raise_for_status()\n",
    "            data = response.json()\n",
    "\n",
    "            if 'observations' in data and len(data['observations']) > 0:\n",
    "                valid_obs = [obs for obs in data['observations']\n",
    "                            if obs['value'] not in ('.', '', 'M')]\n",
    "\n",
    "                if valid_obs:\n",
    "                    return float(valid_obs[-1]['value'])\n",
    "\n",
    "        except Exception as e:\n",
    "            if attempt == max_retries - 1:\n",
    "                print(f\"⚠️ Failed to retrieve {series_id} for {target_date.strftime('%Y-%m')}: {str(e)[:50]}\")\n",
    "\n",
    "    return np.nan"
   ]
  },
  {
   "cell_type": "markdown",
   "metadata": {
    "id": "7fU0mDBzjGHb"
   },
   "source": [
    "# Load Data"
   ]
  },
  {
   "cell_type": "code",
   "execution_count": null,
   "metadata": {
    "colab": {
     "base_uri": "https://localhost:8080/"
    },
    "executionInfo": {
     "elapsed": 70379,
     "status": "ok",
     "timestamp": 1755511723175,
     "user": {
      "displayName": "Ильяс Варшавский",
      "userId": "01979085533608609891"
     },
     "user_tz": -300
    },
    "id": "0hVFJWQc9tOY",
    "outputId": "8b3fa3f8-198c-4427-ad5b-dfef2269c82d"
   },
   "outputs": [
    {
     "name": "stdout",
     "output_type": "stream",
     "text": [
      "Downloading from https://www.kaggle.com/api/v1/datasets/download/wordsforthewise/lending-club?dataset_version_number=3...\n"
     ]
    },
    {
     "name": "stderr",
     "output_type": "stream",
     "text": [
      "100%|██████████| 1.26G/1.26G [00:43<00:00, 30.8MB/s]"
     ]
    },
    {
     "name": "stdout",
     "output_type": "stream",
     "text": [
      "Extracting files...\n"
     ]
    },
    {
     "name": "stderr",
     "output_type": "stream",
     "text": [
      "\n"
     ]
    },
    {
     "name": "stdout",
     "output_type": "stream",
     "text": [
      "Path to dataset files: /root/.cache/kagglehub/datasets/wordsforthewise/lending-club/versions/3\n"
     ]
    }
   ],
   "source": [
    "path = kagglehub.dataset_download(\"wordsforthewise/lending-club\")\n",
    "\n",
    "print(\"Path to dataset files:\", path)"
   ]
  },
  {
   "cell_type": "code",
   "execution_count": null,
   "metadata": {
    "colab": {
     "base_uri": "https://localhost:8080/"
    },
    "executionInfo": {
     "elapsed": 25614,
     "status": "ok",
     "timestamp": 1755511759056,
     "user": {
      "displayName": "Ильяс Варшавский",
      "userId": "01979085533608609891"
     },
     "user_tz": -300
    },
    "id": "TKJ2la0h_tOl",
    "outputId": "c5218b51-65a2-4d4c-ef4a-19265869ede9"
   },
   "outputs": [
    {
     "name": "stderr",
     "output_type": "stream",
     "text": [
      "/tmp/ipython-input-2203210106.py:1: DtypeWarning: Columns (0,19,49,59,118,129,130,131,134,135,136,139,145,146,147) have mixed types. Specify dtype option on import or set low_memory=False.\n",
      "  data = pd.read_csv(path + '/accepted_2007_to_2018q4.csv/accepted_2007_to_2018Q4.csv')\n"
     ]
    },
    {
     "data": {
      "text/plain": [
       "(2260701, 151)"
      ]
     },
     "execution_count": 11,
     "metadata": {},
     "output_type": "execute_result"
    }
   ],
   "source": [
    "data = pd.read_csv(path + '/accepted_2007_to_2018q4.csv/accepted_2007_to_2018Q4.csv')\n",
    "\n",
    "data.shape"
   ]
  },
  {
   "cell_type": "markdown",
   "metadata": {
    "id": "6k4NYymdknnM"
   },
   "source": [
    "# Exploratory Analysis"
   ]
  },
  {
   "cell_type": "code",
   "execution_count": null,
   "metadata": {
    "colab": {
     "base_uri": "https://localhost:8080/",
     "height": 548
    },
    "executionInfo": {
     "elapsed": 1951,
     "status": "ok",
     "timestamp": 1755511811698,
     "user": {
      "displayName": "Ильяс Варшавский",
      "userId": "01979085533608609891"
     },
     "user_tz": -300
    },
    "id": "wyOj5oNmOIJx",
    "outputId": "5edb8933-e783-47c8-841e-256e871a0f40"
   },
   "outputs": [
    {
     "name": "stderr",
     "output_type": "stream",
     "text": [
      "/tmp/ipython-input-2662631132.py:1: UserWarning: Could not infer format, so each element will be parsed individually, falling back to `dateutil`. To ensure parsing is consistent and as-expected, please specify a format.\n",
      "  data['issue_d'] = pd.to_datetime(data['issue_d'], errors='coerce')\n"
     ]
    },
    {
     "data": {
      "image/png": "[encoded data removed]",
      "text/plain": [
       "<Figure size 640x480 with 1 Axes>"
      ]
     },
     "metadata": {},
     "output_type": "display_data"
    }
   ],
   "source": [
    "data['issue_d'] = pd.to_datetime(data['issue_d'], errors='coerce')\n",
    "\n",
    "year_counts = data['issue_d'].dt.year.value_counts().sort_index()\n",
    "\n",
    "plt.bar(year_counts.index, year_counts.values)\n",
    "plt.xlabel('Year')\n",
    "plt.ylabel('Quantity')\n",
    "plt.title('Number of records by year')\n",
    "plt.xticks(year_counts.index, rotation=45)\n",
    "plt.show()"
   ]
  },
  {
   "cell_type": "code",
   "execution_count": null,
   "metadata": {
    "colab": {
     "base_uri": "https://localhost:8080/",
     "height": 332
    },
    "executionInfo": {
     "elapsed": 1951,
     "status": "ok",
     "timestamp": 1755511927824,
     "user": {
      "displayName": "Ильяс Варшавский",
      "userId": "01979085533608609891"
     },
     "user_tz": -300
    },
    "id": "Vusyd__CPkiB",
    "outputId": "49d4d4a0-fec3-4e36-e4a4-e267b5bb2c31"
   },
   "outputs": [
    {
     "data": {
      "image/png": "[encoded data removed]",
      "text/plain": [
       "<Figure size 2000x600 with 1 Axes>"
      ]
     },
     "metadata": {},
     "output_type": "display_data"
    }
   ],
   "source": [
    "data['issue_d'] = pd.to_datetime(data['issue_d'], errors='coerce')\n",
    "\n",
    "data['year_month'] = data['issue_d'].dt.to_period('M')\n",
    "\n",
    "month_counts = data['year_month'].value_counts().sort_index()\n",
    "\n",
    "labels = month_counts.index.astype(str)\n",
    "\n",
    "plt.figure(figsize=(20,6))\n",
    "plt.bar(labels, month_counts.values)\n",
    "plt.xlabel('Year-month')\n",
    "plt.ylabel('Quantity')\n",
    "plt.title('Number of records by month for each year')\n",
    "plt.xticks(rotation=90)\n",
    "plt.tight_layout()\n",
    "plt.show()"
   ]
  },
  {
   "cell_type": "markdown",
   "metadata": {
    "id": "T-q6Q_rADMoA"
   },
   "source": [
    "# Data Cleansing"
   ]
  },
  {
   "cell_type": "markdown",
   "metadata": {},
   "source": [
    "Part of the data cleaning process was taken from the notebook:\n",
    "\n",
    "https://www.kaggle.com/code/emmaruyiyang/lending-club-loan-default-prediction-eda"
   ]
  },
  {
   "cell_type": "code",
   "execution_count": null,
   "metadata": {
    "id": "A3cRuy5-T7Vg"
   },
   "outputs": [],
   "source": [
    "data = data[:-2]"
   ]
  },
  {
   "cell_type": "code",
   "execution_count": null,
   "metadata": {
    "colab": {
     "base_uri": "https://localhost:8080/",
     "height": 424
    },
    "executionInfo": {
     "elapsed": 3569,
     "status": "ok",
     "timestamp": 1755512078507,
     "user": {
      "displayName": "Ильяс Варшавский",
      "userId": "01979085533608609891"
     },
     "user_tz": -300
    },
    "id": "7ZFTToH0HSMl",
    "outputId": "00c4eeaf-96a9-4496-c4ff-a36d76223a75"
   },
   "outputs": [
    {
     "data": {
      "application/vnd.google.colaboratory.intrinsic+json": {
       "type": "dataframe",
       "variable_name": "complete_df"
      },
      "text/html": [
       "\n",
       "  <div id=\"df-c20e2fb0-6dfd-4956-b70f-434343d60e95\" class=\"colab-df-container\">\n",
       "    <div>\n",
       "<style scoped>\n",
       "    .dataframe tbody tr th:only-of-type {\n",
       "        vertical-align: middle;\n",
       "    }\n",
       "\n",
       "    .dataframe tbody tr th {\n",
       "        vertical-align: top;\n",
       "    }\n",
       "\n",
       "    .dataframe thead th {\n",
       "        text-align: right;\n",
       "    }\n",
       "</style>\n",
       "<table border=\"1\" class=\"dataframe\">\n",
       "  <thead>\n",
       "    <tr style=\"text-align: right;\">\n",
       "      <th></th>\n",
       "      <th>0</th>\n",
       "      <th>1</th>\n",
       "      <th>2</th>\n",
       "      <th>3</th>\n",
       "      <th>4</th>\n",
       "    </tr>\n",
       "  </thead>\n",
       "  <tbody>\n",
       "    <tr>\n",
       "      <th>id</th>\n",
       "      <td>68407277</td>\n",
       "      <td>68355089</td>\n",
       "      <td>68341763</td>\n",
       "      <td>66310712</td>\n",
       "      <td>68476807</td>\n",
       "    </tr>\n",
       "    <tr>\n",
       "      <th>member_id</th>\n",
       "      <td>NaN</td>\n",
       "      <td>NaN</td>\n",
       "      <td>NaN</td>\n",
       "      <td>NaN</td>\n",
       "      <td>NaN</td>\n",
       "    </tr>\n",
       "    <tr>\n",
       "      <th>loan_amnt</th>\n",
       "      <td>3600.0</td>\n",
       "      <td>24700.0</td>\n",
       "      <td>20000.0</td>\n",
       "      <td>35000.0</td>\n",
       "      <td>10400.0</td>\n",
       "    </tr>\n",
       "    <tr>\n",
       "      <th>funded_amnt</th>\n",
       "      <td>3600.0</td>\n",
       "      <td>24700.0</td>\n",
       "      <td>20000.0</td>\n",
       "      <td>35000.0</td>\n",
       "      <td>10400.0</td>\n",
       "    </tr>\n",
       "    <tr>\n",
       "      <th>funded_amnt_inv</th>\n",
       "      <td>3600.0</td>\n",
       "      <td>24700.0</td>\n",
       "      <td>20000.0</td>\n",
       "      <td>35000.0</td>\n",
       "      <td>10400.0</td>\n",
       "    </tr>\n",
       "    <tr>\n",
       "      <th>...</th>\n",
       "      <td>...</td>\n",
       "      <td>...</td>\n",
       "      <td>...</td>\n",
       "      <td>...</td>\n",
       "      <td>...</td>\n",
       "    </tr>\n",
       "    <tr>\n",
       "      <th>year_month</th>\n",
       "      <td>2015-12</td>\n",
       "      <td>2015-12</td>\n",
       "      <td>2015-12</td>\n",
       "      <td>2015-12</td>\n",
       "      <td>2015-12</td>\n",
       "    </tr>\n",
       "    <tr>\n",
       "      <th>loan_condition_int</th>\n",
       "      <td>0</td>\n",
       "      <td>0</td>\n",
       "      <td>0</td>\n",
       "      <td>0</td>\n",
       "      <td>0</td>\n",
       "    </tr>\n",
       "    <tr>\n",
       "      <th>loan_condition</th>\n",
       "      <td>Good Loan</td>\n",
       "      <td>Good Loan</td>\n",
       "      <td>Good Loan</td>\n",
       "      <td>Good Loan</td>\n",
       "      <td>Good Loan</td>\n",
       "    </tr>\n",
       "    <tr>\n",
       "      <th>emp_length_int</th>\n",
       "      <td>10.0</td>\n",
       "      <td>10.0</td>\n",
       "      <td>10.0</td>\n",
       "      <td>10.0</td>\n",
       "      <td>3.0</td>\n",
       "    </tr>\n",
       "    <tr>\n",
       "      <th>region</th>\n",
       "      <td>NorthEast</td>\n",
       "      <td>MidWest</td>\n",
       "      <td>MidWest</td>\n",
       "      <td>NorthEast</td>\n",
       "      <td>NorthEast</td>\n",
       "    </tr>\n",
       "  </tbody>\n",
       "</table>\n",
       "<p>156 rows × 5 columns</p>\n",
       "</div>\n",
       "    <div class=\"colab-df-buttons\">\n",
       "\n",
       "  <div class=\"colab-df-container\">\n",
       "    <button class=\"colab-df-convert\" onclick=\"convertToInteractive('df-c20e2fb0-6dfd-4956-b70f-434343d60e95')\"\n",
       "            title=\"Convert this dataframe to an interactive table.\"\n",
       "            style=\"display:none;\">\n",
       "\n",
       "  <svg xmlns=\"http://www.w3.org/2000/svg\" height=\"24px\" viewBox=\"0 -960 960 960\">\n",
       "    <path d=\"M120-120v-720h720v720H120Zm60-500h600v-160H180v160Zm220 220h160v-160H400v160Zm0 220h160v-160H400v160ZM180-400h160v-160H180v160Zm440 0h160v-160H620v160ZM180-180h160v-160H180v160Zm440 0h160v-160H620v160Z\"/>\n",
       "  </svg>\n",
       "    </button>\n",
       "\n",
       "  <style>\n",
       "    .colab-df-container {\n",
       "      display:flex;\n",
       "      gap: 12px;\n",
       "    }\n",
       "\n",
       "    .colab-df-convert {\n",
       "      background-color: #E8F0FE;\n",
       "      border: none;\n",
       "      border-radius: 50%;\n",
       "      cursor: pointer;\n",
       "      display: none;\n",
       "      fill: #1967D2;\n",
       "      height: 32px;\n",
       "      padding: 0 0 0 0;\n",
       "      width: 32px;\n",
       "    }\n",
       "\n",
       "    .colab-df-convert:hover {\n",
       "      background-color: #E2EBFA;\n",
       "      box-shadow: 0px 1px 2px rgba(60, 64, 67, 0.3), 0px 1px 3px 1px rgba(60, 64, 67, 0.15);\n",
       "      fill: #174EA6;\n",
       "    }\n",
       "\n",
       "    .colab-df-buttons div {\n",
       "      margin-bottom: 4px;\n",
       "    }\n",
       "\n",
       "    [theme=dark] .colab-df-convert {\n",
       "      background-color: #3B4455;\n",
       "      fill: #D2E3FC;\n",
       "    }\n",
       "\n",
       "    [theme=dark] .colab-df-convert:hover {\n",
       "      background-color: #434B5C;\n",
       "      box-shadow: 0px 1px 3px 1px rgba(0, 0, 0, 0.15);\n",
       "      filter: drop-shadow(0px 1px 2px rgba(0, 0, 0, 0.3));\n",
       "      fill: #FFFFFF;\n",
       "    }\n",
       "  </style>\n",
       "\n",
       "    <script>\n",
       "      const buttonEl =\n",
       "        document.querySelector('#df-c20e2fb0-6dfd-4956-b70f-434343d60e95 button.colab-df-convert');\n",
       "      buttonEl.style.display =\n",
       "        google.colab.kernel.accessAllowed ? 'block' : 'none';\n",
       "\n",
       "      async function convertToInteractive(key) {\n",
       "        const element = document.querySelector('#df-c20e2fb0-6dfd-4956-b70f-434343d60e95');\n",
       "        const dataTable =\n",
       "          await google.colab.kernel.invokeFunction('convertToInteractive',\n",
       "                                                    [key], {});\n",
       "        if (!dataTable) return;\n",
       "\n",
       "        const docLinkHtml = 'Like what you see? Visit the ' +\n",
       "          '<a target=\"_blank\" href=https://colab.research.google.com/notebooks/data_table.ipynb>data table notebook</a>'\n",
       "          + ' to learn more about interactive tables.';\n",
       "        element.innerHTML = '';\n",
       "        dataTable['output_type'] = 'display_data';\n",
       "        await google.colab.output.renderOutput(dataTable, element);\n",
       "        const docLink = document.createElement('div');\n",
       "        docLink.innerHTML = docLinkHtml;\n",
       "        element.appendChild(docLink);\n",
       "      }\n",
       "    </script>\n",
       "  </div>\n",
       "\n",
       "\n",
       "    <div id=\"df-170f18d9-946f-449a-b3ae-a7d28c7e99d4\">\n",
       "      <button class=\"colab-df-quickchart\" onclick=\"quickchart('df-170f18d9-946f-449a-b3ae-a7d28c7e99d4')\"\n",
       "                title=\"Suggest charts\"\n",
       "                style=\"display:none;\">\n",
       "\n",
       "<svg xmlns=\"http://www.w3.org/2000/svg\" height=\"24px\"viewBox=\"0 0 24 24\"\n",
       "     width=\"24px\">\n",
       "    <g>\n",
       "        <path d=\"M19 3H5c-1.1 0-2 .9-2 2v14c0 1.1.9 2 2 2h14c1.1 0 2-.9 2-2V5c0-1.1-.9-2-2-2zM9 17H7v-7h2v7zm4 0h-2V7h2v10zm4 0h-2v-4h2v4z\"/>\n",
       "    </g>\n",
       "</svg>\n",
       "      </button>\n",
       "\n",
       "<style>\n",
       "  .colab-df-quickchart {\n",
       "      --bg-color: #E8F0FE;\n",
       "      --fill-color: #1967D2;\n",
       "      --hover-bg-color: #E2EBFA;\n",
       "      --hover-fill-color: #174EA6;\n",
       "      --disabled-fill-color: #AAA;\n",
       "      --disabled-bg-color: #DDD;\n",
       "  }\n",
       "\n",
       "  [theme=dark] .colab-df-quickchart {\n",
       "      --bg-color: #3B4455;\n",
       "      --fill-color: #D2E3FC;\n",
       "      --hover-bg-color: #434B5C;\n",
       "      --hover-fill-color: #FFFFFF;\n",
       "      --disabled-bg-color: #3B4455;\n",
       "      --disabled-fill-color: #666;\n",
       "  }\n",
       "\n",
       "  .colab-df-quickchart {\n",
       "    background-color: var(--bg-color);\n",
       "    border: none;\n",
       "    border-radius: 50%;\n",
       "    cursor: pointer;\n",
       "    display: none;\n",
       "    fill: var(--fill-color);\n",
       "    height: 32px;\n",
       "    padding: 0;\n",
       "    width: 32px;\n",
       "  }\n",
       "\n",
       "  .colab-df-quickchart:hover {\n",
       "    background-color: var(--hover-bg-color);\n",
       "    box-shadow: 0 1px 2px rgba(60, 64, 67, 0.3), 0 1px 3px 1px rgba(60, 64, 67, 0.15);\n",
       "    fill: var(--button-hover-fill-color);\n",
       "  }\n",
       "\n",
       "  .colab-df-quickchart-complete:disabled,\n",
       "  .colab-df-quickchart-complete:disabled:hover {\n",
       "    background-color: var(--disabled-bg-color);\n",
       "    fill: var(--disabled-fill-color);\n",
       "    box-shadow: none;\n",
       "  }\n",
       "\n",
       "  .colab-df-spinner {\n",
       "    border: 2px solid var(--fill-color);\n",
       "    border-color: transparent;\n",
       "    border-bottom-color: var(--fill-color);\n",
       "    animation:\n",
       "      spin 1s steps(1) infinite;\n",
       "  }\n",
       "\n",
       "  @keyframes spin {\n",
       "    0% {\n",
       "      border-color: transparent;\n",
       "      border-bottom-color: var(--fill-color);\n",
       "      border-left-color: var(--fill-color);\n",
       "    }\n",
       "    20% {\n",
       "      border-color: transparent;\n",
       "      border-left-color: var(--fill-color);\n",
       "      border-top-color: var(--fill-color);\n",
       "    }\n",
       "    30% {\n",
       "      border-color: transparent;\n",
       "      border-left-color: var(--fill-color);\n",
       "      border-top-color: var(--fill-color);\n",
       "      border-right-color: var(--fill-color);\n",
       "    }\n",
       "    40% {\n",
       "      border-color: transparent;\n",
       "      border-right-color: var(--fill-color);\n",
       "      border-top-color: var(--fill-color);\n",
       "    }\n",
       "    60% {\n",
       "      border-color: transparent;\n",
       "      border-right-color: var(--fill-color);\n",
       "    }\n",
       "    80% {\n",
       "      border-color: transparent;\n",
       "      border-right-color: var(--fill-color);\n",
       "      border-bottom-color: var(--fill-color);\n",
       "    }\n",
       "    90% {\n",
       "      border-color: transparent;\n",
       "      border-bottom-color: var(--fill-color);\n",
       "    }\n",
       "  }\n",
       "</style>\n",
       "\n",
       "      <script>\n",
       "        async function quickchart(key) {\n",
       "          const quickchartButtonEl =\n",
       "            document.querySelector('#' + key + ' button');\n",
       "          quickchartButtonEl.disabled = true;  // To prevent multiple clicks.\n",
       "          quickchartButtonEl.classList.add('colab-df-spinner');\n",
       "          try {\n",
       "            const charts = await google.colab.kernel.invokeFunction(\n",
       "                'suggestCharts', [key], {});\n",
       "          } catch (error) {\n",
       "            console.error('Error during call to suggestCharts:', error);\n",
       "          }\n",
       "          quickchartButtonEl.classList.remove('colab-df-spinner');\n",
       "          quickchartButtonEl.classList.add('colab-df-quickchart-complete');\n",
       "        }\n",
       "        (() => {\n",
       "          let quickchartButtonEl =\n",
       "            document.querySelector('#df-170f18d9-946f-449a-b3ae-a7d28c7e99d4 button');\n",
       "          quickchartButtonEl.style.display =\n",
       "            google.colab.kernel.accessAllowed ? 'block' : 'none';\n",
       "        })();\n",
       "      </script>\n",
       "    </div>\n",
       "\n",
       "    </div>\n",
       "  </div>\n"
      ],
      "text/plain": [
       "                            0          1          2          3          4\n",
       "id                   68407277   68355089   68341763   66310712   68476807\n",
       "member_id                 NaN        NaN        NaN        NaN        NaN\n",
       "loan_amnt              3600.0    24700.0    20000.0    35000.0    10400.0\n",
       "funded_amnt            3600.0    24700.0    20000.0    35000.0    10400.0\n",
       "funded_amnt_inv        3600.0    24700.0    20000.0    35000.0    10400.0\n",
       "...                       ...        ...        ...        ...        ...\n",
       "year_month            2015-12    2015-12    2015-12    2015-12    2015-12\n",
       "loan_condition_int          0          0          0          0          0\n",
       "loan_condition      Good Loan  Good Loan  Good Loan  Good Loan  Good Loan\n",
       "emp_length_int           10.0       10.0       10.0       10.0        3.0\n",
       "region              NorthEast    MidWest    MidWest  NorthEast  NorthEast\n",
       "\n",
       "[156 rows x 5 columns]"
      ]
     },
     "execution_count": 16,
     "metadata": {},
     "output_type": "execute_result"
    }
   ],
   "source": [
    "complete_df = data.copy()\n",
    "\n",
    "bad_loan = [\"Charged Off\", \"Default\", \"Does not meet the credit policy. Status:Charged Off\", \"In Grace Period\",\n",
    "            \"Late (16-30 days)\", \"Late (31-120 days)\"]\n",
    "complete_df['loan_condition_int'] = complete_df['loan_status'].apply(lambda status: 1 if status in bad_loan else 0).astype(int)\n",
    "complete_df['loan_condition'] = np.where(complete_df['loan_condition_int'] == 0, 'Good Loan', 'Bad Loan')\n",
    "\n",
    "#emp_length\n",
    "emp_length_mapping = {\n",
    "    '10+ years': 10,\n",
    "    '9 years': 9,\n",
    "    '8 years': 8,\n",
    "    '7 years': 7,\n",
    "    '6 years': 6,\n",
    "    '5 years': 5,\n",
    "    '4 years': 4,\n",
    "    '3 years': 3,\n",
    "    '2 years': 2,\n",
    "    '1 year': 1,\n",
    "    '< 1 year': 0.5,\n",
    "    'n/a': 0\n",
    "}\n",
    "complete_df['emp_length_int'] = complete_df['emp_length'].map(emp_length_mapping)\n",
    "complete_df.head().transpose()\n",
    "\n",
    "state_to_region = {\n",
    "    'CA': 'West', 'OR': 'West', 'UT': 'West', 'WA': 'West', 'CO': 'West',\n",
    "    'NV': 'West', 'AK': 'West', 'MT': 'West', 'HI': 'West', 'WY': 'West', 'ID': 'West',\n",
    "    'AZ': 'SouthWest', 'TX': 'SouthWest', 'NM': 'SouthWest', 'OK': 'SouthWest',\n",
    "    'GA': 'SouthEast', 'NC': 'SouthEast', 'VA': 'SouthEast', 'FL': 'SouthEast', 'KY': 'SouthEast',\n",
    "    'SC': 'SouthEast', 'LA': 'SouthEast', 'AL': 'SouthEast', 'WV': 'SouthEast', 'DC': 'SouthEast',\n",
    "    'AR': 'SouthEast', 'DE': 'SouthEast', 'MS': 'SouthEast', 'TN': 'SouthEast',\n",
    "    'IL': 'MidWest', 'MO': 'MidWest', 'MN': 'MidWest', 'OH': 'MidWest', 'WI': 'MidWest',\n",
    "    'KS': 'MidWest', 'MI': 'MidWest', 'SD': 'MidWest', 'IA': 'MidWest', 'NE': 'MidWest',\n",
    "    'IN': 'MidWest', 'ND': 'MidWest',\n",
    "    'CT': 'NorthEast', 'NY': 'NorthEast', 'PA': 'NorthEast', 'NJ': 'NorthEast', 'RI': 'NorthEast',\n",
    "    'MA': 'NorthEast', 'MD': 'NorthEast', 'VT': 'NorthEast', 'NH': 'NorthEast', 'ME': 'NorthEast'\n",
    "}\n",
    "complete_df['region'] = complete_df['addr_state'].map(state_to_region)\n",
    "complete_df.head().transpose()"
   ]
  },
  {
   "cell_type": "code",
   "execution_count": null,
   "metadata": {
    "colab": {
     "base_uri": "https://localhost:8080/",
     "height": 178
    },
    "executionInfo": {
     "elapsed": 152,
     "status": "ok",
     "timestamp": 1755512082438,
     "user": {
      "displayName": "Ильяс Варшавский",
      "userId": "01979085533608609891"
     },
     "user_tz": -300
    },
    "id": "E-c9UhjHLaKj",
    "outputId": "8a3ebe55-60a9-48c4-8f23-73f7fcefddbc"
   },
   "outputs": [
    {
     "data": {
      "text/html": [
       "<div>\n",
       "<style scoped>\n",
       "    .dataframe tbody tr th:only-of-type {\n",
       "        vertical-align: middle;\n",
       "    }\n",
       "\n",
       "    .dataframe tbody tr th {\n",
       "        vertical-align: top;\n",
       "    }\n",
       "\n",
       "    .dataframe thead th {\n",
       "        text-align: right;\n",
       "    }\n",
       "</style>\n",
       "<table border=\"1\" class=\"dataframe\">\n",
       "  <thead>\n",
       "    <tr style=\"text-align: right;\">\n",
       "      <th></th>\n",
       "      <th>count</th>\n",
       "    </tr>\n",
       "    <tr>\n",
       "      <th>loan_condition_int</th>\n",
       "      <th></th>\n",
       "    </tr>\n",
       "  </thead>\n",
       "  <tbody>\n",
       "    <tr>\n",
       "      <th>0</th>\n",
       "      <td>1957087</td>\n",
       "    </tr>\n",
       "    <tr>\n",
       "      <th>1</th>\n",
       "      <td>303612</td>\n",
       "    </tr>\n",
       "  </tbody>\n",
       "</table>\n",
       "</div><br><label><b>dtype:</b> int64</label>"
      ],
      "text/plain": [
       "loan_condition_int\n",
       "0    1957087\n",
       "1     303612\n",
       "Name: count, dtype: int64"
      ]
     },
     "execution_count": 17,
     "metadata": {},
     "output_type": "execute_result"
    }
   ],
   "source": [
    "complete_df['loan_condition_int'].value_counts()"
   ]
  },
  {
   "cell_type": "code",
   "execution_count": null,
   "metadata": {
    "executionInfo": {
     "elapsed": 10841,
     "status": "ok",
     "timestamp": 1755512576166,
     "user": {
      "displayName": "Ильяс Варшавский",
      "userId": "01979085533608609891"
     },
     "user_tz": -300
    },
    "id": "EYh-UtBmDMoB"
   },
   "outputs": [],
   "source": [
    "drop_df = complete_df.copy()\n",
    "drop_df = complete_df[~complete_df['loan_status'].isin(['Current', 'Issued',\n",
    "                                #  'In Grace Period', 'Late (16-30 days)', 'Late (31-120 days)',\n",
    "                                # 'Does not meet the credit policy. Status:Fully Paid', 'Does not meet the credit policy. Status:Charged Off'\n",
    "                                                           ])]"
   ]
  },
  {
   "cell_type": "code",
   "execution_count": null,
   "metadata": {
    "executionInfo": {
     "elapsed": 2291,
     "status": "ok",
     "timestamp": 1755512579409,
     "user": {
      "displayName": "Ильяс Варшавский",
      "userId": "01979085533608609891"
     },
     "user_tz": -300
    },
    "id": "CUOiHaVbLlQ_"
   },
   "outputs": [],
   "source": [
    "drop_df.dropna(subset='loan_condition_int', inplace=True)"
   ]
  },
  {
   "cell_type": "code",
   "execution_count": null,
   "metadata": {
    "executionInfo": {
     "elapsed": 2435,
     "status": "ok",
     "timestamp": 1755512582911,
     "user": {
      "displayName": "Ильяс Варшавский",
      "userId": "01979085533608609891"
     },
     "user_tz": -300
    },
    "id": "NIGFQGjkEf05"
   },
   "outputs": [],
   "source": [
    "drop_df = drop_df.dropna(axis=1, thresh=int(0.20*len(drop_df)))"
   ]
  },
  {
   "cell_type": "code",
   "execution_count": null,
   "metadata": {
    "executionInfo": {
     "elapsed": 674,
     "status": "ok",
     "timestamp": 1755512584182,
     "user": {
      "displayName": "Ильяс Варшавский",
      "userId": "01979085533608609891"
     },
     "user_tz": -300
    },
    "id": "INPaF9OMFD7i"
   },
   "outputs": [],
   "source": [
    "drop_df.drop(['emp_length'], axis=1, inplace=True)\n",
    "\n",
    "drop_df.drop(['id','emp_title','url','title','zip_code'], axis=1, inplace=True)"
   ]
  },
  {
   "cell_type": "code",
   "execution_count": null,
   "metadata": {
    "colab": {
     "base_uri": "https://localhost:8080/"
    },
    "executionInfo": {
     "elapsed": 191,
     "status": "ok",
     "timestamp": 1755512588694,
     "user": {
      "displayName": "Ильяс Варшавский",
      "userId": "01979085533608609891"
     },
     "user_tz": -300
    },
    "id": "UTggC7QnFV9Q",
    "outputId": "f5e173a8-10e4-496e-ee46-4109db34b2f2"
   },
   "outputs": [
    {
     "data": {
      "text/plain": [
       "(1382382, 110)"
      ]
     },
     "execution_count": 23,
     "metadata": {},
     "output_type": "execute_result"
    }
   ],
   "source": [
    "drop_df.shape"
   ]
  },
  {
   "cell_type": "code",
   "execution_count": null,
   "metadata": {
    "colab": {
     "base_uri": "https://localhost:8080/",
     "height": 332
    },
    "executionInfo": {
     "elapsed": 3566,
     "status": "ok",
     "timestamp": 1755512594948,
     "user": {
      "displayName": "Ильяс Варшавский",
      "userId": "01979085533608609891"
     },
     "user_tz": -300
    },
    "id": "jV_VMan-QKC6",
    "outputId": "0ae63e20-6621-4532-af56-e9ec314dcfc5"
   },
   "outputs": [
    {
     "data": {
      "image/png": "[encoded data removed]",
      "text/plain": [
       "<Figure size 2000x600 with 1 Axes>"
      ]
     },
     "metadata": {},
     "output_type": "display_data"
    }
   ],
   "source": [
    "data['issue_d'] = pd.to_datetime(data['issue_d'], errors='coerce')\n",
    "\n",
    "data['year_month'] = data['issue_d'].dt.to_period('M')\n",
    "\n",
    "month_counts = data['year_month'].value_counts().sort_index()\n",
    "\n",
    "labels = month_counts.index.astype(str)\n",
    "\n",
    "plt.figure(figsize=(20,6))\n",
    "plt.bar(labels, month_counts.values)\n",
    "plt.xlabel('Year-month')\n",
    "plt.ylabel('Quantity')\n",
    "plt.title('Number of records by month for each year')\n",
    "plt.xticks(rotation=90)\n",
    "plt.tight_layout()\n",
    "plt.show()"
   ]
  },
  {
   "cell_type": "code",
   "execution_count": null,
   "metadata": {
    "colab": {
     "base_uri": "https://localhost:8080/"
    },
    "executionInfo": {
     "elapsed": 1191,
     "status": "ok",
     "timestamp": 1755512599890,
     "user": {
      "displayName": "Ильяс Варшавский",
      "userId": "01979085533608609891"
     },
     "user_tz": -300
    },
    "id": "dE7m5pLfSFeV",
    "outputId": "90ad78cf-2894-480c-ba04-28ec50c77bf8"
   },
   "outputs": [
    {
     "name": "stdout",
     "output_type": "stream",
     "text": [
      "                                nan_count  nan_ratio\n",
      "mths_since_recent_bc_dlq          1054549   0.762849\n",
      "mths_since_last_major_derog       1018207   0.736560\n",
      "mths_since_recent_revol_delinq     919977   0.665501\n",
      "il_util                            890427   0.644125\n",
      "mths_since_rcnt_il                 828537   0.599355\n",
      "...                                   ...        ...\n",
      "disbursement_method                    31   0.000022\n",
      "year_month                             31   0.000022\n",
      "region                                 31   0.000022\n",
      "loan_condition                          0   0.000000\n",
      "loan_condition_int                      0   0.000000\n",
      "\n",
      "[110 rows x 2 columns]\n"
     ]
    }
   ],
   "source": [
    "nan_counts = drop_df.isna().sum()\n",
    "\n",
    "nan_ratio = nan_counts / len(drop_df)\n",
    "\n",
    "nan_summary = pd.DataFrame({'nan_count': nan_counts, 'nan_ratio': nan_ratio}).sort_values(by='nan_ratio', ascending=False)\n",
    "\n",
    "print(nan_summary)"
   ]
  },
  {
   "cell_type": "code",
   "execution_count": null,
   "metadata": {
    "colab": {
     "base_uri": "https://localhost:8080/"
    },
    "executionInfo": {
     "elapsed": 1553,
     "status": "ok",
     "timestamp": 1755512603131,
     "user": {
      "displayName": "Ильяс Варшавский",
      "userId": "01979085533608609891"
     },
     "user_tz": -300
    },
    "id": "WWIPQaMbSJr6",
    "outputId": "b9a89b77-cfec-4391-9de6-b437005bd57e"
   },
   "outputs": [
    {
     "name": "stdout",
     "output_type": "stream",
     "text": [
      "term                      31\n",
      "grade                     31\n",
      "sub_grade                 31\n",
      "home_ownership            31\n",
      "verification_status       31\n",
      "loan_status               31\n",
      "pymnt_plan                31\n",
      "purpose                   31\n",
      "addr_state                31\n",
      "earliest_cr_line          60\n",
      "initial_list_status       31\n",
      "last_pymnt_d            2458\n",
      "last_credit_pull_d        88\n",
      "application_type          31\n",
      "hardship_flag             31\n",
      "disbursement_method       31\n",
      "debt_settlement_flag      31\n",
      "region                    31\n",
      "dtype: int64\n"
     ]
    }
   ],
   "source": [
    "cat_cols = drop_df.select_dtypes(include=['object', 'category']).columns\n",
    "\n",
    "nan_in_cat = drop_df[cat_cols].isna().sum()\n",
    "\n",
    "nan_in_cat = nan_in_cat[nan_in_cat > 0]\n",
    "\n",
    "print(nan_in_cat)"
   ]
  },
  {
   "cell_type": "code",
   "execution_count": null,
   "metadata": {
    "executionInfo": {
     "elapsed": 2759,
     "status": "ok",
     "timestamp": 1755512609435,
     "user": {
      "displayName": "Ильяс Варшавский",
      "userId": "01979085533608609891"
     },
     "user_tz": -300
    },
    "id": "C8N3VBnySr8-"
   },
   "outputs": [],
   "source": [
    "fillna_df = drop_df.copy()\n",
    "\n",
    "for column in [\"last_pymnt_d\", \"last_credit_pull_d\"]:\n",
    "    fillna_df[column] = fillna_df.groupby(\"region\")[column].transform(\n",
    "    lambda x: x.fillna(x.mode().iloc[0] if not x.mode().empty else pd.NaT)\n",
    ")\n",
    "\n",
    "fillna_df[\"pub_rec\"] = fillna_df.groupby(\"region\")[\"pub_rec\"].transform(lambda x: x.fillna(x.median()))\n",
    "fillna_df[\"total_acc\"] = fillna_df.groupby(\"region\")[\"total_acc\"].transform(lambda x: x.fillna(x.median()))\n",
    "\n",
    "fillna_df[\"emp_length_int\"] = fillna_df.groupby(\"region\")[\"emp_length_int\"].transform(lambda x: x.fillna(x.median()))\n",
    "\n",
    "fillna_df[\"annual_inc\"] = fillna_df.groupby(\"region\")[\"annual_inc\"].transform(lambda x: x.fillna(x.mean()))\n",
    "fillna_df[\"delinq_2yrs\"] = fillna_df.groupby(\"region\")[\"delinq_2yrs\"].transform(lambda x: x.fillna(x.mean()))"
   ]
  },
  {
   "cell_type": "code",
   "execution_count": null,
   "metadata": {
    "colab": {
     "base_uri": "https://localhost:8080/"
    },
    "executionInfo": {
     "elapsed": 1775,
     "status": "ok",
     "timestamp": 1755512613766,
     "user": {
      "displayName": "Ильяс Варшавский",
      "userId": "01979085533608609891"
     },
     "user_tz": -300
    },
    "id": "Kj2zaYnqSvR9",
    "outputId": "3a623965-040e-4554-9049-608d305779b6"
   },
   "outputs": [
    {
     "name": "stdout",
     "output_type": "stream",
     "text": [
      "term                    31\n",
      "grade                   31\n",
      "sub_grade               31\n",
      "home_ownership          31\n",
      "verification_status     31\n",
      "loan_status             31\n",
      "pymnt_plan              31\n",
      "purpose                 31\n",
      "addr_state              31\n",
      "earliest_cr_line        60\n",
      "initial_list_status     31\n",
      "last_pymnt_d            31\n",
      "last_credit_pull_d      31\n",
      "application_type        31\n",
      "hardship_flag           31\n",
      "disbursement_method     31\n",
      "debt_settlement_flag    31\n",
      "region                  31\n",
      "dtype: int64\n"
     ]
    }
   ],
   "source": [
    "cat_cols = fillna_df.select_dtypes(include=['object', 'category']).columns\n",
    "\n",
    "nan_in_cat = fillna_df[cat_cols].isna().sum()\n",
    "\n",
    "nan_in_cat = nan_in_cat[nan_in_cat > 0]\n",
    "\n",
    "print(nan_in_cat)"
   ]
  },
  {
   "cell_type": "code",
   "execution_count": null,
   "metadata": {
    "executionInfo": {
     "elapsed": 1266,
     "status": "ok",
     "timestamp": 1755512622569,
     "user": {
      "displayName": "Ильяс Варшавский",
      "userId": "01979085533608609891"
     },
     "user_tz": -300
    },
    "id": "qTYUOn8kVJ6R"
   },
   "outputs": [],
   "source": [
    "drop_df = fillna_df.copy()"
   ]
  },
  {
   "cell_type": "code",
   "execution_count": null,
   "metadata": {
    "colab": {
     "base_uri": "https://localhost:8080/"
    },
    "executionInfo": {
     "elapsed": 668,
     "status": "ok",
     "timestamp": 1755512628443,
     "user": {
      "displayName": "Ильяс Варшавский",
      "userId": "01979085533608609891"
     },
     "user_tz": -300
    },
    "id": "KWNOnLX6Ne4k",
    "outputId": "ed609caa-00b3-4029-a91c-27cde7f3904b"
   },
   "outputs": [
    {
     "data": {
      "text/plain": [
       "(1382322, 110)"
      ]
     },
     "execution_count": 31,
     "metadata": {},
     "output_type": "execute_result"
    }
   ],
   "source": [
    "drop_df.dropna(subset=list(nan_in_cat.reset_index()['index'].values), inplace=True)\n",
    "drop_df.shape"
   ]
  },
  {
   "cell_type": "code",
   "execution_count": null,
   "metadata": {
    "colab": {
     "base_uri": "https://localhost:8080/"
    },
    "executionInfo": {
     "elapsed": 1325,
     "status": "ok",
     "timestamp": 1755512631854,
     "user": {
      "displayName": "Ильяс Варшавский",
      "userId": "01979085533608609891"
     },
     "user_tz": -300
    },
    "id": "wokFsa4DU_7e",
    "outputId": "d30afe94-bcdb-495d-8ada-2739e9c254e8"
   },
   "outputs": [
    {
     "name": "stdout",
     "output_type": "stream",
     "text": [
      "Series([], dtype: int64)\n"
     ]
    }
   ],
   "source": [
    "cat_cols = drop_df.select_dtypes(include=['object', 'category']).columns\n",
    "\n",
    "nan_in_cat = drop_df[cat_cols].isna().sum()\n",
    "\n",
    "nan_in_cat = nan_in_cat[nan_in_cat > 0]\n",
    "\n",
    "print(nan_in_cat)"
   ]
  },
  {
   "cell_type": "code",
   "execution_count": null,
   "metadata": {
    "colab": {
     "base_uri": "https://localhost:8080/",
     "height": 493
    },
    "executionInfo": {
     "elapsed": 1397,
     "status": "ok",
     "timestamp": 1755512671757,
     "user": {
      "displayName": "Ильяс Варшавский",
      "userId": "01979085533608609891"
     },
     "user_tz": -300
    },
    "id": "yAVe70xRNuqS",
    "outputId": "e5b81953-b9b8-4ee2-fb4f-8b48188635e8"
   },
   "outputs": [
    {
     "data": {
      "image/png": "[encoded data removed]",
      "text/plain": [
       "<Figure size 640x480 with 1 Axes>"
      ]
     },
     "metadata": {},
     "output_type": "display_data"
    }
   ],
   "source": [
    "drop_df['issue_d'] = pd.to_datetime(drop_df['issue_d'], errors='coerce')\n",
    "\n",
    "year_counts = drop_df['issue_d'].dt.year.value_counts().sort_index()\n",
    "\n",
    "plt.bar(year_counts.index, year_counts.values)\n",
    "plt.xlabel('Year')\n",
    "plt.ylabel('Quantity')\n",
    "plt.title('Number of records by year')\n",
    "plt.xticks(year_counts.index, rotation=45)\n",
    "plt.show()"
   ]
  },
  {
   "cell_type": "markdown",
   "metadata": {
    "id": "UK3WTmCuKIxc"
   },
   "source": [
    "# Add Macrodata"
   ]
  },
  {
   "cell_type": "code",
   "execution_count": null,
   "metadata": {
    "id": "IAQkyPSkKLVX"
   },
   "outputs": [],
   "source": [
    "enriched_data = add_macro_features_fixed(drop_df)"
   ]
  },
  {
   "cell_type": "code",
   "execution_count": null,
   "metadata": {
    "colab": {
     "base_uri": "https://localhost:8080/",
     "height": 617
    },
    "executionInfo": {
     "elapsed": 919,
     "status": "ok",
     "timestamp": 1755073251389,
     "user": {
      "displayName": "Ильяс Варшавский",
      "userId": "01979085533608609891"
     },
     "user_tz": -300
    },
    "id": "42ob7VfOhGVU",
    "outputId": "985a6be9-2ad4-444c-d471-1d0903921c3a"
   },
   "outputs": [
    {
     "data": {
      "application/vnd.google.colaboratory.intrinsic+json": {
       "type": "dataframe",
       "variable_name": "enriched_data"
      },
      "text/html": [
       "\n",
       "  <div id=\"df-e8de5dcb-f841-4bda-ba30-82b074686628\" class=\"colab-df-container\">\n",
       "    <div>\n",
       "<style scoped>\n",
       "    .dataframe tbody tr th:only-of-type {\n",
       "        vertical-align: middle;\n",
       "    }\n",
       "\n",
       "    .dataframe tbody tr th {\n",
       "        vertical-align: top;\n",
       "    }\n",
       "\n",
       "    .dataframe thead th {\n",
       "        text-align: right;\n",
       "    }\n",
       "</style>\n",
       "<table border=\"1\" class=\"dataframe\">\n",
       "  <thead>\n",
       "    <tr style=\"text-align: right;\">\n",
       "      <th></th>\n",
       "      <th>loan_amnt</th>\n",
       "      <th>funded_amnt</th>\n",
       "      <th>funded_amnt_inv</th>\n",
       "      <th>term</th>\n",
       "      <th>int_rate</th>\n",
       "      <th>installment</th>\n",
       "      <th>grade</th>\n",
       "      <th>sub_grade</th>\n",
       "      <th>home_ownership</th>\n",
       "      <th>annual_inc</th>\n",
       "      <th>...</th>\n",
       "      <th>hardship_flag</th>\n",
       "      <th>disbursement_method</th>\n",
       "      <th>debt_settlement_flag</th>\n",
       "      <th>year_month</th>\n",
       "      <th>loan_condition_int</th>\n",
       "      <th>loan_condition</th>\n",
       "      <th>emp_length_int</th>\n",
       "      <th>region</th>\n",
       "      <th>unemployment_rate</th>\n",
       "      <th>federal_funds_rate</th>\n",
       "    </tr>\n",
       "  </thead>\n",
       "  <tbody>\n",
       "    <tr>\n",
       "      <th>0</th>\n",
       "      <td>3600.0</td>\n",
       "      <td>3600.0</td>\n",
       "      <td>3600.0</td>\n",
       "      <td>36 months</td>\n",
       "      <td>13.99</td>\n",
       "      <td>123.03</td>\n",
       "      <td>C</td>\n",
       "      <td>C4</td>\n",
       "      <td>MORTGAGE</td>\n",
       "      <td>55000.0</td>\n",
       "      <td>...</td>\n",
       "      <td>N</td>\n",
       "      <td>Cash</td>\n",
       "      <td>N</td>\n",
       "      <td>2015-12</td>\n",
       "      <td>0</td>\n",
       "      <td>Good Loan</td>\n",
       "      <td>10.0</td>\n",
       "      <td>NorthEast</td>\n",
       "      <td>4.5</td>\n",
       "      <td>0.20</td>\n",
       "    </tr>\n",
       "    <tr>\n",
       "      <th>1</th>\n",
       "      <td>24700.0</td>\n",
       "      <td>24700.0</td>\n",
       "      <td>24700.0</td>\n",
       "      <td>36 months</td>\n",
       "      <td>11.99</td>\n",
       "      <td>820.28</td>\n",
       "      <td>C</td>\n",
       "      <td>C1</td>\n",
       "      <td>MORTGAGE</td>\n",
       "      <td>65000.0</td>\n",
       "      <td>...</td>\n",
       "      <td>N</td>\n",
       "      <td>Cash</td>\n",
       "      <td>N</td>\n",
       "      <td>2015-12</td>\n",
       "      <td>0</td>\n",
       "      <td>Good Loan</td>\n",
       "      <td>10.0</td>\n",
       "      <td>MidWest</td>\n",
       "      <td>2.8</td>\n",
       "      <td>0.20</td>\n",
       "    </tr>\n",
       "    <tr>\n",
       "      <th>2</th>\n",
       "      <td>20000.0</td>\n",
       "      <td>20000.0</td>\n",
       "      <td>20000.0</td>\n",
       "      <td>60 months</td>\n",
       "      <td>10.78</td>\n",
       "      <td>432.66</td>\n",
       "      <td>B</td>\n",
       "      <td>B4</td>\n",
       "      <td>MORTGAGE</td>\n",
       "      <td>63000.0</td>\n",
       "      <td>...</td>\n",
       "      <td>N</td>\n",
       "      <td>Cash</td>\n",
       "      <td>N</td>\n",
       "      <td>2015-12</td>\n",
       "      <td>0</td>\n",
       "      <td>Good Loan</td>\n",
       "      <td>10.0</td>\n",
       "      <td>MidWest</td>\n",
       "      <td>5.0</td>\n",
       "      <td>0.20</td>\n",
       "    </tr>\n",
       "    <tr>\n",
       "      <th>4</th>\n",
       "      <td>10400.0</td>\n",
       "      <td>10400.0</td>\n",
       "      <td>10400.0</td>\n",
       "      <td>60 months</td>\n",
       "      <td>22.45</td>\n",
       "      <td>289.91</td>\n",
       "      <td>F</td>\n",
       "      <td>F1</td>\n",
       "      <td>MORTGAGE</td>\n",
       "      <td>104433.0</td>\n",
       "      <td>...</td>\n",
       "      <td>N</td>\n",
       "      <td>Cash</td>\n",
       "      <td>N</td>\n",
       "      <td>2015-12</td>\n",
       "      <td>0</td>\n",
       "      <td>Good Loan</td>\n",
       "      <td>3.0</td>\n",
       "      <td>NorthEast</td>\n",
       "      <td>4.6</td>\n",
       "      <td>0.20</td>\n",
       "    </tr>\n",
       "    <tr>\n",
       "      <th>5</th>\n",
       "      <td>11950.0</td>\n",
       "      <td>11950.0</td>\n",
       "      <td>11950.0</td>\n",
       "      <td>36 months</td>\n",
       "      <td>13.44</td>\n",
       "      <td>405.18</td>\n",
       "      <td>C</td>\n",
       "      <td>C3</td>\n",
       "      <td>RENT</td>\n",
       "      <td>34000.0</td>\n",
       "      <td>...</td>\n",
       "      <td>N</td>\n",
       "      <td>Cash</td>\n",
       "      <td>N</td>\n",
       "      <td>2015-12</td>\n",
       "      <td>0</td>\n",
       "      <td>Good Loan</td>\n",
       "      <td>4.0</td>\n",
       "      <td>SouthEast</td>\n",
       "      <td>4.5</td>\n",
       "      <td>0.20</td>\n",
       "    </tr>\n",
       "    <tr>\n",
       "      <th>...</th>\n",
       "      <td>...</td>\n",
       "      <td>...</td>\n",
       "      <td>...</td>\n",
       "      <td>...</td>\n",
       "      <td>...</td>\n",
       "      <td>...</td>\n",
       "      <td>...</td>\n",
       "      <td>...</td>\n",
       "      <td>...</td>\n",
       "      <td>...</td>\n",
       "      <td>...</td>\n",
       "      <td>...</td>\n",
       "      <td>...</td>\n",
       "      <td>...</td>\n",
       "      <td>...</td>\n",
       "      <td>...</td>\n",
       "      <td>...</td>\n",
       "      <td>...</td>\n",
       "      <td>...</td>\n",
       "      <td>...</td>\n",
       "      <td>...</td>\n",
       "    </tr>\n",
       "    <tr>\n",
       "      <th>2260686</th>\n",
       "      <td>23800.0</td>\n",
       "      <td>23800.0</td>\n",
       "      <td>23800.0</td>\n",
       "      <td>60 months</td>\n",
       "      <td>14.49</td>\n",
       "      <td>559.85</td>\n",
       "      <td>C</td>\n",
       "      <td>C4</td>\n",
       "      <td>MORTGAGE</td>\n",
       "      <td>119000.0</td>\n",
       "      <td>...</td>\n",
       "      <td>N</td>\n",
       "      <td>Cash</td>\n",
       "      <td>N</td>\n",
       "      <td>2016-10</td>\n",
       "      <td>0</td>\n",
       "      <td>Good Loan</td>\n",
       "      <td>10.0</td>\n",
       "      <td>MidWest</td>\n",
       "      <td>4.5</td>\n",
       "      <td>0.31</td>\n",
       "    </tr>\n",
       "    <tr>\n",
       "      <th>2260688</th>\n",
       "      <td>18000.0</td>\n",
       "      <td>18000.0</td>\n",
       "      <td>18000.0</td>\n",
       "      <td>60 months</td>\n",
       "      <td>9.49</td>\n",
       "      <td>377.95</td>\n",
       "      <td>B</td>\n",
       "      <td>B2</td>\n",
       "      <td>OWN</td>\n",
       "      <td>130000.0</td>\n",
       "      <td>...</td>\n",
       "      <td>N</td>\n",
       "      <td>Cash</td>\n",
       "      <td>N</td>\n",
       "      <td>2016-10</td>\n",
       "      <td>0</td>\n",
       "      <td>Good Loan</td>\n",
       "      <td>5.0</td>\n",
       "      <td>SouthWest</td>\n",
       "      <td>3.8</td>\n",
       "      <td>0.31</td>\n",
       "    </tr>\n",
       "    <tr>\n",
       "      <th>2260690</th>\n",
       "      <td>29400.0</td>\n",
       "      <td>29400.0</td>\n",
       "      <td>29400.0</td>\n",
       "      <td>60 months</td>\n",
       "      <td>13.99</td>\n",
       "      <td>683.94</td>\n",
       "      <td>C</td>\n",
       "      <td>C3</td>\n",
       "      <td>MORTGAGE</td>\n",
       "      <td>180792.0</td>\n",
       "      <td>...</td>\n",
       "      <td>N</td>\n",
       "      <td>Cash</td>\n",
       "      <td>N</td>\n",
       "      <td>2016-10</td>\n",
       "      <td>0</td>\n",
       "      <td>Good Loan</td>\n",
       "      <td>9.0</td>\n",
       "      <td>West</td>\n",
       "      <td>4.3</td>\n",
       "      <td>0.31</td>\n",
       "    </tr>\n",
       "    <tr>\n",
       "      <th>2260691</th>\n",
       "      <td>32000.0</td>\n",
       "      <td>32000.0</td>\n",
       "      <td>32000.0</td>\n",
       "      <td>60 months</td>\n",
       "      <td>14.49</td>\n",
       "      <td>752.74</td>\n",
       "      <td>C</td>\n",
       "      <td>C4</td>\n",
       "      <td>MORTGAGE</td>\n",
       "      <td>157000.0</td>\n",
       "      <td>...</td>\n",
       "      <td>N</td>\n",
       "      <td>Cash</td>\n",
       "      <td>N</td>\n",
       "      <td>2016-10</td>\n",
       "      <td>1</td>\n",
       "      <td>Bad Loan</td>\n",
       "      <td>3.0</td>\n",
       "      <td>SouthWest</td>\n",
       "      <td>5.0</td>\n",
       "      <td>0.31</td>\n",
       "    </tr>\n",
       "    <tr>\n",
       "      <th>2260692</th>\n",
       "      <td>16000.0</td>\n",
       "      <td>16000.0</td>\n",
       "      <td>16000.0</td>\n",
       "      <td>60 months</td>\n",
       "      <td>12.79</td>\n",
       "      <td>362.34</td>\n",
       "      <td>C</td>\n",
       "      <td>C1</td>\n",
       "      <td>RENT</td>\n",
       "      <td>150000.0</td>\n",
       "      <td>...</td>\n",
       "      <td>N</td>\n",
       "      <td>Cash</td>\n",
       "      <td>N</td>\n",
       "      <td>2016-10</td>\n",
       "      <td>0</td>\n",
       "      <td>Good Loan</td>\n",
       "      <td>10.0</td>\n",
       "      <td>SouthEast</td>\n",
       "      <td>4.0</td>\n",
       "      <td>0.31</td>\n",
       "    </tr>\n",
       "  </tbody>\n",
       "</table>\n",
       "<p>1382321 rows × 112 columns</p>\n",
       "</div>\n",
       "    <div class=\"colab-df-buttons\">\n",
       "\n",
       "  <div class=\"colab-df-container\">\n",
       "    <button class=\"colab-df-convert\" onclick=\"convertToInteractive('df-e8de5dcb-f841-4bda-ba30-82b074686628')\"\n",
       "            title=\"Convert this dataframe to an interactive table.\"\n",
       "            style=\"display:none;\">\n",
       "\n",
       "  <svg xmlns=\"http://www.w3.org/2000/svg\" height=\"24px\" viewBox=\"0 -960 960 960\">\n",
       "    <path d=\"M120-120v-720h720v720H120Zm60-500h600v-160H180v160Zm220 220h160v-160H400v160Zm0 220h160v-160H400v160ZM180-400h160v-160H180v160Zm440 0h160v-160H620v160ZM180-180h160v-160H180v160Zm440 0h160v-160H620v160Z\"/>\n",
       "  </svg>\n",
       "    </button>\n",
       "\n",
       "  <style>\n",
       "    .colab-df-container {\n",
       "      display:flex;\n",
       "      gap: 12px;\n",
       "    }\n",
       "\n",
       "    .colab-df-convert {\n",
       "      background-color: #E8F0FE;\n",
       "      border: none;\n",
       "      border-radius: 50%;\n",
       "      cursor: pointer;\n",
       "      display: none;\n",
       "      fill: #1967D2;\n",
       "      height: 32px;\n",
       "      padding: 0 0 0 0;\n",
       "      width: 32px;\n",
       "    }\n",
       "\n",
       "    .colab-df-convert:hover {\n",
       "      background-color: #E2EBFA;\n",
       "      box-shadow: 0px 1px 2px rgba(60, 64, 67, 0.3), 0px 1px 3px 1px rgba(60, 64, 67, 0.15);\n",
       "      fill: #174EA6;\n",
       "    }\n",
       "\n",
       "    .colab-df-buttons div {\n",
       "      margin-bottom: 4px;\n",
       "    }\n",
       "\n",
       "    [theme=dark] .colab-df-convert {\n",
       "      background-color: #3B4455;\n",
       "      fill: #D2E3FC;\n",
       "    }\n",
       "\n",
       "    [theme=dark] .colab-df-convert:hover {\n",
       "      background-color: #434B5C;\n",
       "      box-shadow: 0px 1px 3px 1px rgba(0, 0, 0, 0.15);\n",
       "      filter: drop-shadow(0px 1px 2px rgba(0, 0, 0, 0.3));\n",
       "      fill: #FFFFFF;\n",
       "    }\n",
       "  </style>\n",
       "\n",
       "    <script>\n",
       "      const buttonEl =\n",
       "        document.querySelector('#df-e8de5dcb-f841-4bda-ba30-82b074686628 button.colab-df-convert');\n",
       "      buttonEl.style.display =\n",
       "        google.colab.kernel.accessAllowed ? 'block' : 'none';\n",
       "\n",
       "      async function convertToInteractive(key) {\n",
       "        const element = document.querySelector('#df-e8de5dcb-f841-4bda-ba30-82b074686628');\n",
       "        const dataTable =\n",
       "          await google.colab.kernel.invokeFunction('convertToInteractive',\n",
       "                                                    [key], {});\n",
       "        if (!dataTable) return;\n",
       "\n",
       "        const docLinkHtml = 'Like what you see? Visit the ' +\n",
       "          '<a target=\"_blank\" href=https://colab.research.google.com/notebooks/data_table.ipynb>data table notebook</a>'\n",
       "          + ' to learn more about interactive tables.';\n",
       "        element.innerHTML = '';\n",
       "        dataTable['output_type'] = 'display_data';\n",
       "        await google.colab.output.renderOutput(dataTable, element);\n",
       "        const docLink = document.createElement('div');\n",
       "        docLink.innerHTML = docLinkHtml;\n",
       "        element.appendChild(docLink);\n",
       "      }\n",
       "    </script>\n",
       "  </div>\n",
       "\n",
       "\n",
       "    <div id=\"df-d860c76d-c952-4c1f-8d80-6acf2fc7b70a\">\n",
       "      <button class=\"colab-df-quickchart\" onclick=\"quickchart('df-d860c76d-c952-4c1f-8d80-6acf2fc7b70a')\"\n",
       "                title=\"Suggest charts\"\n",
       "                style=\"display:none;\">\n",
       "\n",
       "<svg xmlns=\"http://www.w3.org/2000/svg\" height=\"24px\"viewBox=\"0 0 24 24\"\n",
       "     width=\"24px\">\n",
       "    <g>\n",
       "        <path d=\"M19 3H5c-1.1 0-2 .9-2 2v14c0 1.1.9 2 2 2h14c1.1 0 2-.9 2-2V5c0-1.1-.9-2-2-2zM9 17H7v-7h2v7zm4 0h-2V7h2v10zm4 0h-2v-4h2v4z\"/>\n",
       "    </g>\n",
       "</svg>\n",
       "      </button>\n",
       "\n",
       "<style>\n",
       "  .colab-df-quickchart {\n",
       "      --bg-color: #E8F0FE;\n",
       "      --fill-color: #1967D2;\n",
       "      --hover-bg-color: #E2EBFA;\n",
       "      --hover-fill-color: #174EA6;\n",
       "      --disabled-fill-color: #AAA;\n",
       "      --disabled-bg-color: #DDD;\n",
       "  }\n",
       "\n",
       "  [theme=dark] .colab-df-quickchart {\n",
       "      --bg-color: #3B4455;\n",
       "      --fill-color: #D2E3FC;\n",
       "      --hover-bg-color: #434B5C;\n",
       "      --hover-fill-color: #FFFFFF;\n",
       "      --disabled-bg-color: #3B4455;\n",
       "      --disabled-fill-color: #666;\n",
       "  }\n",
       "\n",
       "  .colab-df-quickchart {\n",
       "    background-color: var(--bg-color);\n",
       "    border: none;\n",
       "    border-radius: 50%;\n",
       "    cursor: pointer;\n",
       "    display: none;\n",
       "    fill: var(--fill-color);\n",
       "    height: 32px;\n",
       "    padding: 0;\n",
       "    width: 32px;\n",
       "  }\n",
       "\n",
       "  .colab-df-quickchart:hover {\n",
       "    background-color: var(--hover-bg-color);\n",
       "    box-shadow: 0 1px 2px rgba(60, 64, 67, 0.3), 0 1px 3px 1px rgba(60, 64, 67, 0.15);\n",
       "    fill: var(--button-hover-fill-color);\n",
       "  }\n",
       "\n",
       "  .colab-df-quickchart-complete:disabled,\n",
       "  .colab-df-quickchart-complete:disabled:hover {\n",
       "    background-color: var(--disabled-bg-color);\n",
       "    fill: var(--disabled-fill-color);\n",
       "    box-shadow: none;\n",
       "  }\n",
       "\n",
       "  .colab-df-spinner {\n",
       "    border: 2px solid var(--fill-color);\n",
       "    border-color: transparent;\n",
       "    border-bottom-color: var(--fill-color);\n",
       "    animation:\n",
       "      spin 1s steps(1) infinite;\n",
       "  }\n",
       "\n",
       "  @keyframes spin {\n",
       "    0% {\n",
       "      border-color: transparent;\n",
       "      border-bottom-color: var(--fill-color);\n",
       "      border-left-color: var(--fill-color);\n",
       "    }\n",
       "    20% {\n",
       "      border-color: transparent;\n",
       "      border-left-color: var(--fill-color);\n",
       "      border-top-color: var(--fill-color);\n",
       "    }\n",
       "    30% {\n",
       "      border-color: transparent;\n",
       "      border-left-color: var(--fill-color);\n",
       "      border-top-color: var(--fill-color);\n",
       "      border-right-color: var(--fill-color);\n",
       "    }\n",
       "    40% {\n",
       "      border-color: transparent;\n",
       "      border-right-color: var(--fill-color);\n",
       "      border-top-color: var(--fill-color);\n",
       "    }\n",
       "    60% {\n",
       "      border-color: transparent;\n",
       "      border-right-color: var(--fill-color);\n",
       "    }\n",
       "    80% {\n",
       "      border-color: transparent;\n",
       "      border-right-color: var(--fill-color);\n",
       "      border-bottom-color: var(--fill-color);\n",
       "    }\n",
       "    90% {\n",
       "      border-color: transparent;\n",
       "      border-bottom-color: var(--fill-color);\n",
       "    }\n",
       "  }\n",
       "</style>\n",
       "\n",
       "      <script>\n",
       "        async function quickchart(key) {\n",
       "          const quickchartButtonEl =\n",
       "            document.querySelector('#' + key + ' button');\n",
       "          quickchartButtonEl.disabled = true;  // To prevent multiple clicks.\n",
       "          quickchartButtonEl.classList.add('colab-df-spinner');\n",
       "          try {\n",
       "            const charts = await google.colab.kernel.invokeFunction(\n",
       "                'suggestCharts', [key], {});\n",
       "          } catch (error) {\n",
       "            console.error('Error during call to suggestCharts:', error);\n",
       "          }\n",
       "          quickchartButtonEl.classList.remove('colab-df-spinner');\n",
       "          quickchartButtonEl.classList.add('colab-df-quickchart-complete');\n",
       "        }\n",
       "        (() => {\n",
       "          let quickchartButtonEl =\n",
       "            document.querySelector('#df-d860c76d-c952-4c1f-8d80-6acf2fc7b70a button');\n",
       "          quickchartButtonEl.style.display =\n",
       "            google.colab.kernel.accessAllowed ? 'block' : 'none';\n",
       "        })();\n",
       "      </script>\n",
       "    </div>\n",
       "\n",
       "  <div id=\"id_79a177c9-0d4c-43df-a639-26c2e9d81feb\">\n",
       "    <style>\n",
       "      .colab-df-generate {\n",
       "        background-color: #E8F0FE;\n",
       "        border: none;\n",
       "        border-radius: 50%;\n",
       "        cursor: pointer;\n",
       "        display: none;\n",
       "        fill: #1967D2;\n",
       "        height: 32px;\n",
       "        padding: 0 0 0 0;\n",
       "        width: 32px;\n",
       "      }\n",
       "\n",
       "      .colab-df-generate:hover {\n",
       "        background-color: #E2EBFA;\n",
       "        box-shadow: 0px 1px 2px rgba(60, 64, 67, 0.3), 0px 1px 3px 1px rgba(60, 64, 67, 0.15);\n",
       "        fill: #174EA6;\n",
       "      }\n",
       "\n",
       "      [theme=dark] .colab-df-generate {\n",
       "        background-color: #3B4455;\n",
       "        fill: #D2E3FC;\n",
       "      }\n",
       "\n",
       "      [theme=dark] .colab-df-generate:hover {\n",
       "        background-color: #434B5C;\n",
       "        box-shadow: 0px 1px 3px 1px rgba(0, 0, 0, 0.15);\n",
       "        filter: drop-shadow(0px 1px 2px rgba(0, 0, 0, 0.3));\n",
       "        fill: #FFFFFF;\n",
       "      }\n",
       "    </style>\n",
       "    <button class=\"colab-df-generate\" onclick=\"generateWithVariable('enriched_data')\"\n",
       "            title=\"Generate code using this dataframe.\"\n",
       "            style=\"display:none;\">\n",
       "\n",
       "  <svg xmlns=\"http://www.w3.org/2000/svg\" height=\"24px\"viewBox=\"0 0 24 24\"\n",
       "       width=\"24px\">\n",
       "    <path d=\"M7,19H8.4L18.45,9,17,7.55,7,17.6ZM5,21V16.75L18.45,3.32a2,2,0,0,1,2.83,0l1.4,1.43a1.91,1.91,0,0,1,.58,1.4,1.91,1.91,0,0,1-.58,1.4L9.25,21ZM18.45,9,17,7.55Zm-12,3A5.31,5.31,0,0,0,4.9,8.1,5.31,5.31,0,0,0,1,6.5,5.31,5.31,0,0,0,4.9,4.9,5.31,5.31,0,0,0,6.5,1,5.31,5.31,0,0,0,8.1,4.9,5.31,5.31,0,0,0,12,6.5,5.46,5.46,0,0,0,6.5,12Z\"/>\n",
       "  </svg>\n",
       "    </button>\n",
       "    <script>\n",
       "      (() => {\n",
       "      const buttonEl =\n",
       "        document.querySelector('#id_79a177c9-0d4c-43df-a639-26c2e9d81feb button.colab-df-generate');\n",
       "      buttonEl.style.display =\n",
       "        google.colab.kernel.accessAllowed ? 'block' : 'none';\n",
       "\n",
       "      buttonEl.onclick = () => {\n",
       "        google.colab.notebook.generateWithVariable('enriched_data');\n",
       "      }\n",
       "      })();\n",
       "    </script>\n",
       "  </div>\n",
       "\n",
       "    </div>\n",
       "  </div>\n"
      ],
      "text/plain": [
       "         loan_amnt  funded_amnt  funded_amnt_inv        term  int_rate  \\\n",
       "0           3600.0       3600.0           3600.0   36 months     13.99   \n",
       "1          24700.0      24700.0          24700.0   36 months     11.99   \n",
       "2          20000.0      20000.0          20000.0   60 months     10.78   \n",
       "4          10400.0      10400.0          10400.0   60 months     22.45   \n",
       "5          11950.0      11950.0          11950.0   36 months     13.44   \n",
       "...            ...          ...              ...         ...       ...   \n",
       "2260686    23800.0      23800.0          23800.0   60 months     14.49   \n",
       "2260688    18000.0      18000.0          18000.0   60 months      9.49   \n",
       "2260690    29400.0      29400.0          29400.0   60 months     13.99   \n",
       "2260691    32000.0      32000.0          32000.0   60 months     14.49   \n",
       "2260692    16000.0      16000.0          16000.0   60 months     12.79   \n",
       "\n",
       "         installment grade sub_grade home_ownership  annual_inc  ...  \\\n",
       "0             123.03     C        C4       MORTGAGE     55000.0  ...   \n",
       "1             820.28     C        C1       MORTGAGE     65000.0  ...   \n",
       "2             432.66     B        B4       MORTGAGE     63000.0  ...   \n",
       "4             289.91     F        F1       MORTGAGE    104433.0  ...   \n",
       "5             405.18     C        C3           RENT     34000.0  ...   \n",
       "...              ...   ...       ...            ...         ...  ...   \n",
       "2260686       559.85     C        C4       MORTGAGE    119000.0  ...   \n",
       "2260688       377.95     B        B2            OWN    130000.0  ...   \n",
       "2260690       683.94     C        C3       MORTGAGE    180792.0  ...   \n",
       "2260691       752.74     C        C4       MORTGAGE    157000.0  ...   \n",
       "2260692       362.34     C        C1           RENT    150000.0  ...   \n",
       "\n",
       "        hardship_flag disbursement_method debt_settlement_flag year_month  \\\n",
       "0                   N                Cash                    N    2015-12   \n",
       "1                   N                Cash                    N    2015-12   \n",
       "2                   N                Cash                    N    2015-12   \n",
       "4                   N                Cash                    N    2015-12   \n",
       "5                   N                Cash                    N    2015-12   \n",
       "...               ...                 ...                  ...        ...   \n",
       "2260686             N                Cash                    N    2016-10   \n",
       "2260688             N                Cash                    N    2016-10   \n",
       "2260690             N                Cash                    N    2016-10   \n",
       "2260691             N                Cash                    N    2016-10   \n",
       "2260692             N                Cash                    N    2016-10   \n",
       "\n",
       "        loan_condition_int loan_condition  emp_length_int     region  \\\n",
       "0                        0      Good Loan            10.0  NorthEast   \n",
       "1                        0      Good Loan            10.0    MidWest   \n",
       "2                        0      Good Loan            10.0    MidWest   \n",
       "4                        0      Good Loan             3.0  NorthEast   \n",
       "5                        0      Good Loan             4.0  SouthEast   \n",
       "...                    ...            ...             ...        ...   \n",
       "2260686                  0      Good Loan            10.0    MidWest   \n",
       "2260688                  0      Good Loan             5.0  SouthWest   \n",
       "2260690                  0      Good Loan             9.0       West   \n",
       "2260691                  1       Bad Loan             3.0  SouthWest   \n",
       "2260692                  0      Good Loan            10.0  SouthEast   \n",
       "\n",
       "        unemployment_rate  federal_funds_rate  \n",
       "0                     4.5                0.20  \n",
       "1                     2.8                0.20  \n",
       "2                     5.0                0.20  \n",
       "4                     4.6                0.20  \n",
       "5                     4.5                0.20  \n",
       "...                   ...                 ...  \n",
       "2260686               4.5                0.31  \n",
       "2260688               3.8                0.31  \n",
       "2260690               4.3                0.31  \n",
       "2260691               5.0                0.31  \n",
       "2260692               4.0                0.31  \n",
       "\n",
       "[1382321 rows x 112 columns]"
      ]
     },
     "execution_count": 124,
     "metadata": {},
     "output_type": "execute_result"
    }
   ],
   "source": [
    "enriched_data"
   ]
  },
  {
   "cell_type": "code",
   "execution_count": null,
   "metadata": {
    "id": "QqiZRVPKDMoB"
   },
   "outputs": [],
   "source": [
    "data = enriched_data.sample(100000, random_state=42) # drop_df"
   ]
  },
  {
   "cell_type": "code",
   "execution_count": null,
   "metadata": {
    "colab": {
     "base_uri": "https://localhost:8080/"
    },
    "executionInfo": {
     "elapsed": 143,
     "status": "ok",
     "timestamp": 1755080788107,
     "user": {
      "displayName": "Ильяс Варшавский",
      "userId": "01979085533608609891"
     },
     "user_tz": -300
    },
    "id": "YeGkqLLsVeRV",
    "outputId": "0dcb96de-a2b1-4e0d-f21b-94e4938ad773"
   },
   "outputs": [
    {
     "name": "stdout",
     "output_type": "stream",
     "text": [
      "Series([], dtype: int64)\n"
     ]
    }
   ],
   "source": [
    "cat_cols = data.select_dtypes(include=['object', 'category']).columns\n",
    "\n",
    "nan_in_cat = data[cat_cols].isna().sum()\n",
    "\n",
    "nan_in_cat = nan_in_cat[nan_in_cat > 0]\n",
    "\n",
    "print(nan_in_cat)"
   ]
  },
  {
   "cell_type": "code",
   "execution_count": null,
   "metadata": {
    "colab": {
     "base_uri": "https://localhost:8080/"
    },
    "executionInfo": {
     "elapsed": 349,
     "status": "ok",
     "timestamp": 1755080788457,
     "user": {
      "displayName": "Ильяс Варшавский",
      "userId": "01979085533608609891"
     },
     "user_tz": -300
    },
    "id": "5Hq78D0RVzvG",
    "outputId": "c250bbde-b641-49af-f2b7-37b7406796c7"
   },
   "outputs": [
    {
     "name": "stdout",
     "output_type": "stream",
     "text": [
      "collections_12_mths_ex_med       11\n",
      "open_il_12m                   58905\n",
      "chargeoff_within_12_mths         11\n",
      "num_tl_120dpd_2m               8781\n",
      "num_tl_30dpd                   5133\n",
      "pub_rec_bankruptcies            100\n",
      "dtype: int64\n"
     ]
    }
   ],
   "source": [
    "cat_features = get_cat_features(data)\n",
    "\n",
    "nan_in_cat = data[cat_features].isna().sum()\n",
    "\n",
    "nan_in_cat = nan_in_cat[nan_in_cat > 0]\n",
    "\n",
    "print(nan_in_cat)"
   ]
  },
  {
   "cell_type": "code",
   "execution_count": null,
   "metadata": {
    "colab": {
     "base_uri": "https://localhost:8080/"
    },
    "executionInfo": {
     "elapsed": 81,
     "status": "ok",
     "timestamp": 1755080788540,
     "user": {
      "displayName": "Ильяс Варшавский",
      "userId": "01979085533608609891"
     },
     "user_tz": -300
    },
    "id": "quIPZYgdWWyW",
    "outputId": "0d64c939-cd37-4c4b-8141-a01b128b3361"
   },
   "outputs": [
    {
     "data": {
      "text/plain": [
       "array(['collections_12_mths_ex_med', 'open_il_12m',\n",
       "       'chargeoff_within_12_mths', 'num_tl_120dpd_2m', 'num_tl_30dpd',\n",
       "       'pub_rec_bankruptcies'], dtype=object)"
      ]
     },
     "execution_count": 172,
     "metadata": {},
     "output_type": "execute_result"
    }
   ],
   "source": [
    "nan_in_cat.reset_index()['index'].values"
   ]
  },
  {
   "cell_type": "code",
   "execution_count": null,
   "metadata": {
    "colab": {
     "base_uri": "https://localhost:8080/",
     "height": 210
    },
    "executionInfo": {
     "elapsed": 147,
     "status": "ok",
     "timestamp": 1755080790288,
     "user": {
      "displayName": "Ильяс Варшавский",
      "userId": "01979085533608609891"
     },
     "user_tz": -300
    },
    "id": "zsrBv5R_V8h5",
    "outputId": "8f0ea7d8-7df6-4c8b-c3da-81cb350bd1d9"
   },
   "outputs": [
    {
     "data": {
      "text/html": [
       "<div>\n",
       "<style scoped>\n",
       "    .dataframe tbody tr th:only-of-type {\n",
       "        vertical-align: middle;\n",
       "    }\n",
       "\n",
       "    .dataframe tbody tr th {\n",
       "        vertical-align: top;\n",
       "    }\n",
       "\n",
       "    .dataframe thead th {\n",
       "        text-align: right;\n",
       "    }\n",
       "</style>\n",
       "<table border=\"1\" class=\"dataframe\">\n",
       "  <thead>\n",
       "    <tr style=\"text-align: right;\">\n",
       "      <th></th>\n",
       "      <th>count</th>\n",
       "    </tr>\n",
       "    <tr>\n",
       "      <th>num_tl_30dpd</th>\n",
       "      <th></th>\n",
       "    </tr>\n",
       "  </thead>\n",
       "  <tbody>\n",
       "    <tr>\n",
       "      <th>0.0</th>\n",
       "      <td>94590</td>\n",
       "    </tr>\n",
       "    <tr>\n",
       "      <th>1.0</th>\n",
       "      <td>270</td>\n",
       "    </tr>\n",
       "    <tr>\n",
       "      <th>2.0</th>\n",
       "      <td>7</td>\n",
       "    </tr>\n",
       "  </tbody>\n",
       "</table>\n",
       "</div><br><label><b>dtype:</b> int64</label>"
      ],
      "text/plain": [
       "num_tl_30dpd\n",
       "0.0    94590\n",
       "1.0      270\n",
       "2.0        7\n",
       "Name: count, dtype: int64"
      ]
     },
     "execution_count": 173,
     "metadata": {},
     "output_type": "execute_result"
    }
   ],
   "source": [
    "data['num_tl_30dpd'].value_counts()"
   ]
  },
  {
   "cell_type": "code",
   "execution_count": null,
   "metadata": {
    "id": "A_XMyPqkFo7d"
   },
   "outputs": [],
   "source": [
    "data['issue_d'] = pd.to_datetime(data['issue_d'])"
   ]
  },
  {
   "cell_type": "code",
   "execution_count": null,
   "metadata": {
    "colab": {
     "base_uri": "https://localhost:8080/",
     "height": 178
    },
    "executionInfo": {
     "elapsed": 202,
     "status": "ok",
     "timestamp": 1755080792642,
     "user": {
      "displayName": "Ильяс Варшавский",
      "userId": "01979085533608609891"
     },
     "user_tz": -300
    },
    "id": "Hcylu9UZGMPy",
    "outputId": "df88f124-a838-4cb9-b5ab-082080f2d7e4"
   },
   "outputs": [
    {
     "data": {
      "text/html": [
       "<div>\n",
       "<style scoped>\n",
       "    .dataframe tbody tr th:only-of-type {\n",
       "        vertical-align: middle;\n",
       "    }\n",
       "\n",
       "    .dataframe tbody tr th {\n",
       "        vertical-align: top;\n",
       "    }\n",
       "\n",
       "    .dataframe thead th {\n",
       "        text-align: right;\n",
       "    }\n",
       "</style>\n",
       "<table border=\"1\" class=\"dataframe\">\n",
       "  <thead>\n",
       "    <tr style=\"text-align: right;\">\n",
       "      <th></th>\n",
       "      <th>count</th>\n",
       "    </tr>\n",
       "    <tr>\n",
       "      <th>loan_condition_int</th>\n",
       "      <th></th>\n",
       "    </tr>\n",
       "  </thead>\n",
       "  <tbody>\n",
       "    <tr>\n",
       "      <th>0</th>\n",
       "      <td>78126</td>\n",
       "    </tr>\n",
       "    <tr>\n",
       "      <th>1</th>\n",
       "      <td>21874</td>\n",
       "    </tr>\n",
       "  </tbody>\n",
       "</table>\n",
       "</div><br><label><b>dtype:</b> int64</label>"
      ],
      "text/plain": [
       "loan_condition_int\n",
       "0    78126\n",
       "1    21874\n",
       "Name: count, dtype: int64"
      ]
     },
     "execution_count": 175,
     "metadata": {},
     "output_type": "execute_result"
    }
   ],
   "source": [
    "data['loan_condition_int'].value_counts()"
   ]
  },
  {
   "cell_type": "code",
   "execution_count": null,
   "metadata": {
    "id": "Y99D49kX0J_O"
   },
   "outputs": [],
   "source": [
    "data['year_month'] = pd.to_datetime(data['issue_d']).dt.to_period('M')"
   ]
  },
  {
   "cell_type": "markdown",
   "metadata": {
    "id": "UISeCMufuL_C"
   },
   "source": [
    "# Modeling with all features"
   ]
  },
  {
   "cell_type": "code",
   "execution_count": null,
   "metadata": {},
   "outputs": [],
   "source": [
    "drop_cols = ['debt_settlement_flag',\n",
    "    'collections_12_mths_ex_med',\n",
    "             'chargeoff_within_12_mths',\n",
    "             'num_tl_120dpd_2m',\n",
    "             'num_tl_30dpd',\n",
    "             'pub_rec_bankruptcies',\n",
    "             'loan_condition',\n",
    "             'loan_status',\n",
    "             'collection_recovery_fee',\n",
    "              'last_pymnt_amnt',\n",
    "              'out_prncp',\n",
    "              'out_prncp_inv',\n",
    "              'recoveries',\n",
    "              'total_pymnt',\n",
    "              'total_pymnt_inv',\n",
    "              'total_rec_int',\n",
    "              'total_rec_late_fee',\n",
    "              'total_rec_prncp',\n",
    "             'policy_code', 'year_month',\n",
    "             'last_credit_pull_d',\n",
    "              'last_fico_range_high',\n",
    "              'last_fico_range_low',\n",
    "             'last_pymnt_d']\n",
    "drop_cols = []\n",
    "\n",
    "date_col = 'issue_d'\n",
    "target_col = 'loan_condition_int'\n",
    "\n",
    "df_prep = prepare_data(data, drop_cols, date_col, target_col)\n",
    "\n",
    "train_df, oos_df, oot_df = split_by_time(df_prep, date_col, target_col)\n",
    "\n",
    "X_train = train_df.drop(columns=[target_col, date_col])\n",
    "y_train = train_df[target_col]\n",
    "\n",
    "X_oos = oos_df.drop(columns=[target_col, date_col])\n",
    "y_oos = oos_df[target_col]\n",
    "\n",
    "X_oot = oot_df.drop(columns=[target_col, date_col])\n",
    "y_oot = oot_df[target_col]\n",
    "\n",
    "cat_features = get_cat_features(X_train)\n",
    "\n",
    "for col in cat_features:\n",
    "    X_train[col] = X_train[col].astype(str)\n",
    "    X_oot[col] = X_oot[col].astype(str)\n",
    "    X_oos[col] = X_oos[col].astype(str)\n",
    "\n",
    "model = train_catboost(X_train, y_train, X_oos, y_oos, cat_features)\n",
    "\n",
    "auc_train = evaluate_auc(model, X_train, y_train)\n",
    "auc_oos = evaluate_auc(model, X_oos, y_oos)\n",
    "auc_oot = evaluate_auc(model, X_oot, y_oot)\n",
    "\n",
    "print(f\"AUC train: {auc_train:.4f}\")\n",
    "print(f\"AUC oos:   {auc_oos:.4f}\")\n",
    "print(f\"AUC oot:   {auc_oot:.4f}\")"
   ]
  },
  {
   "cell_type": "code",
   "execution_count": null,
   "metadata": {},
   "outputs": [],
   "source": [
    "plot_feature_importances(model, X_train.columns, top_n=15)"
   ]
  },
  {
   "cell_type": "code",
   "execution_count": null,
   "metadata": {},
   "outputs": [],
   "source": [
    "feature_importances = model.get_feature_importance()\n",
    "feature_names = model.feature_names_\n",
    "\n",
    "feat_df = pd.DataFrame({\n",
    "    'feature': feature_names,\n",
    "    'importance': feature_importances\n",
    "}).sort_values(by='importance', ascending=False)\n",
    "\n",
    "top20_features = feat_df.head(20)\n",
    "print(top20_features)"
   ]
  },
  {
   "cell_type": "code",
   "execution_count": null,
   "metadata": {},
   "outputs": [],
   "source": [
    "top20_list = feat_df.head(20)['feature'].tolist()\n",
    "print(top20_list)"
   ]
  },
  {
   "cell_type": "markdown",
   "metadata": {
    "id": "NQJs3hEyuBz7"
   },
   "source": [
    "# Modeling with top 20 features"
   ]
  },
  {
   "cell_type": "code",
   "execution_count": null,
   "metadata": {},
   "outputs": [],
   "source": [
    "data = data[top20_list+['issue_d', 'loan_condition_int']]"
   ]
  },
  {
   "cell_type": "code",
   "execution_count": null,
   "metadata": {
    "colab": {
     "base_uri": "https://localhost:8080/"
    },
    "executionInfo": {
     "elapsed": 27935,
     "status": "ok",
     "timestamp": 1755080824225,
     "user": {
      "displayName": "Ильяс Варшавский",
      "userId": "01979085533608609891"
     },
     "user_tz": -300
    },
    "id": "GwJQeh_YDMoB",
    "outputId": "f55102cd-87c7-4e48-8776-f7136940245c"
   },
   "outputs": [
    {
     "name": "stdout",
     "output_type": "stream",
     "text": [
      "Learning rate set to 0.0905\n",
      "0:\tlearn: 0.6446437\ttest: 0.6568102\tbest: 0.6568102 (0)\ttotal: 34.1ms\tremaining: 34.1s\n",
      "100:\tlearn: 0.4309216\ttest: 0.5614868\tbest: 0.5518586 (13)\ttotal: 2.58s\tremaining: 22.9s\n",
      "200:\tlearn: 0.4218087\ttest: 0.5607480\tbest: 0.5518586 (13)\ttotal: 5.2s\tremaining: 20.7s\n",
      "300:\tlearn: 0.4138973\ttest: 0.5609276\tbest: 0.5518586 (13)\ttotal: 8.14s\tremaining: 18.9s\n",
      "400:\tlearn: 0.4066236\ttest: 0.5618665\tbest: 0.5518586 (13)\ttotal: 10.8s\tremaining: 16.1s\n",
      "500:\tlearn: 0.3999558\ttest: 0.5628538\tbest: 0.5518586 (13)\ttotal: 13.4s\tremaining: 13.4s\n",
      "600:\tlearn: 0.3937926\ttest: 0.5640649\tbest: 0.5518586 (13)\ttotal: 16s\tremaining: 10.6s\n",
      "700:\tlearn: 0.3877391\ttest: 0.5656916\tbest: 0.5518586 (13)\ttotal: 18.9s\tremaining: 8.05s\n",
      "800:\tlearn: 0.3816262\ttest: 0.5665982\tbest: 0.5518586 (13)\ttotal: 21.7s\tremaining: 5.39s\n",
      "900:\tlearn: 0.3758427\ttest: 0.5674336\tbest: 0.5518586 (13)\ttotal: 24.4s\tremaining: 2.68s\n",
      "999:\tlearn: 0.3704867\ttest: 0.5687716\tbest: 0.5518586 (13)\ttotal: 27.1s\tremaining: 0us\n",
      "\n",
      "bestTest = 0.5518585998\n",
      "bestIteration = 13\n",
      "\n",
      "Shrink model to first 14 iterations.\n",
      "AUC train: 0.7178\n",
      "AUC oos:   0.6831\n",
      "AUC oot:   0.6754\n"
     ]
    }
   ],
   "source": [
    "drop_cols = ['debt_settlement_flag',\n",
    "    'collections_12_mths_ex_med',\n",
    "             'chargeoff_within_12_mths',\n",
    "             'num_tl_120dpd_2m',\n",
    "             'num_tl_30dpd',\n",
    "             'pub_rec_bankruptcies',\n",
    "             'loan_condition',\n",
    "             'loan_status',\n",
    "             'collection_recovery_fee',\n",
    "              'last_pymnt_amnt',\n",
    "              'out_prncp',\n",
    "              'out_prncp_inv',\n",
    "              'recoveries',\n",
    "              'total_pymnt',\n",
    "              'total_pymnt_inv',\n",
    "              'total_rec_int',\n",
    "              'total_rec_late_fee',\n",
    "              'total_rec_prncp',\n",
    "             'policy_code', 'year_month',\n",
    "             'last_credit_pull_d',\n",
    "              'last_fico_range_high',\n",
    "              'last_fico_range_low',\n",
    "             'last_pymnt_d']\n",
    "drop_cols = []\n",
    "\n",
    "date_col = 'issue_d'\n",
    "target_col = 'loan_condition_int'\n",
    "\n",
    "df_prep = prepare_data(data, drop_cols, date_col, target_col)\n",
    "\n",
    "train_df, oos_df, oot_df = split_by_time(df_prep, date_col, target_col)\n",
    "\n",
    "X_train = train_df.drop(columns=[target_col, date_col])\n",
    "y_train = train_df[target_col]\n",
    "\n",
    "X_oos = oos_df.drop(columns=[target_col, date_col])\n",
    "y_oos = oos_df[target_col]\n",
    "\n",
    "X_oot = oot_df.drop(columns=[target_col, date_col])\n",
    "y_oot = oot_df[target_col]\n",
    "\n",
    "cat_features = get_cat_features(X_train)\n",
    "\n",
    "for col in cat_features:\n",
    "    X_train[col] = X_train[col].astype(str)\n",
    "    X_oot[col] = X_oot[col].astype(str)\n",
    "    X_oos[col] = X_oos[col].astype(str)\n",
    "\n",
    "model = train_catboost(X_train, y_train, X_oos, y_oos, cat_features)\n",
    "\n",
    "auc_train = evaluate_auc(model, X_train, y_train)\n",
    "auc_oos = evaluate_auc(model, X_oos, y_oos)\n",
    "auc_oot = evaluate_auc(model, X_oot, y_oot)\n",
    "\n",
    "print(f\"AUC train: {auc_train:.4f}\")\n",
    "print(f\"AUC oos:   {auc_oos:.4f}\")\n",
    "print(f\"AUC oot:   {auc_oot:.4f}\")"
   ]
  },
  {
   "cell_type": "code",
   "execution_count": null,
   "metadata": {
    "colab": {
     "base_uri": "https://localhost:8080/",
     "height": 490
    },
    "executionInfo": {
     "elapsed": 148,
     "status": "ok",
     "timestamp": 1755074282830,
     "user": {
      "displayName": "Ильяс Варшавский",
      "userId": "01979085533608609891"
     },
     "user_tz": -300
    },
    "id": "OiECGTbl1Dlw",
    "outputId": "ba91ddf2-b9b6-469c-ba24-d87f53d97901"
   },
   "outputs": [
    {
     "data": {
      "text/html": [
       "<div>\n",
       "<style scoped>\n",
       "    .dataframe tbody tr th:only-of-type {\n",
       "        vertical-align: middle;\n",
       "    }\n",
       "\n",
       "    .dataframe tbody tr th {\n",
       "        vertical-align: top;\n",
       "    }\n",
       "\n",
       "    .dataframe thead th {\n",
       "        text-align: right;\n",
       "    }\n",
       "</style>\n",
       "<table border=\"1\" class=\"dataframe\">\n",
       "  <thead>\n",
       "    <tr style=\"text-align: right;\">\n",
       "      <th></th>\n",
       "      <th>count</th>\n",
       "    </tr>\n",
       "    <tr>\n",
       "      <th>last_fico_range_high</th>\n",
       "      <th></th>\n",
       "    </tr>\n",
       "  </thead>\n",
       "  <tbody>\n",
       "    <tr>\n",
       "      <th>699.0</th>\n",
       "      <td>3185</td>\n",
       "    </tr>\n",
       "    <tr>\n",
       "      <th>694.0</th>\n",
       "      <td>3175</td>\n",
       "    </tr>\n",
       "    <tr>\n",
       "      <th>704.0</th>\n",
       "      <td>3173</td>\n",
       "    </tr>\n",
       "    <tr>\n",
       "      <th>709.0</th>\n",
       "      <td>3127</td>\n",
       "    </tr>\n",
       "    <tr>\n",
       "      <th>714.0</th>\n",
       "      <td>3071</td>\n",
       "    </tr>\n",
       "    <tr>\n",
       "      <th>...</th>\n",
       "      <td>...</td>\n",
       "    </tr>\n",
       "    <tr>\n",
       "      <th>834.0</th>\n",
       "      <td>151</td>\n",
       "    </tr>\n",
       "    <tr>\n",
       "      <th>839.0</th>\n",
       "      <td>88</td>\n",
       "    </tr>\n",
       "    <tr>\n",
       "      <th>844.0</th>\n",
       "      <td>35</td>\n",
       "    </tr>\n",
       "    <tr>\n",
       "      <th>850.0</th>\n",
       "      <td>21</td>\n",
       "    </tr>\n",
       "    <tr>\n",
       "      <th>0.0</th>\n",
       "      <td>18</td>\n",
       "    </tr>\n",
       "  </tbody>\n",
       "</table>\n",
       "<p>72 rows × 1 columns</p>\n",
       "</div><br><label><b>dtype:</b> int64</label>"
      ],
      "text/plain": [
       "last_fico_range_high\n",
       "699.0    3185\n",
       "694.0    3175\n",
       "704.0    3173\n",
       "709.0    3127\n",
       "714.0    3071\n",
       "         ... \n",
       "834.0     151\n",
       "839.0      88\n",
       "844.0      35\n",
       "850.0      21\n",
       "0.0        18\n",
       "Name: count, Length: 72, dtype: int64"
      ]
     },
     "execution_count": 135,
     "metadata": {},
     "output_type": "execute_result"
    }
   ],
   "source": [
    "data['last_fico_range_high'].value_counts()"
   ]
  },
  {
   "cell_type": "code",
   "execution_count": null,
   "metadata": {
    "colab": {
     "base_uri": "https://localhost:8080/",
     "height": 564
    },
    "executionInfo": {
     "elapsed": 618,
     "status": "ok",
     "timestamp": 1755074288557,
     "user": {
      "displayName": "Ильяс Варшавский",
      "userId": "01979085533608609891"
     },
     "user_tz": -300
    },
    "id": "6HNrl52ODMoC",
    "outputId": "225063e4-1bef-4c0b-b051-86b49c576d6b"
   },
   "outputs": [
    {
     "data": {
      "image/png": "[encoded data removed]",
      "text/plain": [
       "<Figure size 800x600 with 1 Axes>"
      ]
     },
     "metadata": {},
     "output_type": "display_data"
    }
   ],
   "source": [
    "plot_feature_importances(model, X_train.columns, top_n=15)"
   ]
  },
  {
   "cell_type": "markdown",
   "metadata": {
    "id": "MAEQ1TTX4Gkj"
   },
   "source": [
    "# Shock Split Data"
   ]
  },
  {
   "cell_type": "code",
   "execution_count": null,
   "metadata": {
    "id": "hkaPtGW8lMaB"
   },
   "outputs": [],
   "source": [
    "# enriched_data.to_parquet(prepr_data_folder+'lending_club.parquet', index=False)"
   ]
  },
  {
   "cell_type": "code",
   "execution_count": null,
   "metadata": {
    "colab": {
     "base_uri": "https://localhost:8080/"
    },
    "executionInfo": {
     "elapsed": 221,
     "status": "ok",
     "timestamp": 1755074702302,
     "user": {
      "displayName": "Ильяс Варшавский",
      "userId": "01979085533608609891"
     },
     "user_tz": -300
    },
    "id": "nAthaApX4LvG",
    "outputId": "82692fcd-40af-4d21-891e-3d956e4f25c0"
   },
   "outputs": [
    {
     "data": {
      "text/plain": [
       "(1382321, 112)"
      ]
     },
     "execution_count": 143,
     "metadata": {},
     "output_type": "execute_result"
    }
   ],
   "source": [
    "enriched_data.shape"
   ]
  },
  {
   "cell_type": "code",
   "execution_count": null,
   "metadata": {
    "colab": {
     "base_uri": "https://localhost:8080/"
    },
    "executionInfo": {
     "elapsed": 4622,
     "status": "ok",
     "timestamp": 1755074721553,
     "user": {
      "displayName": "Ильяс Варшавский",
      "userId": "01979085533608609891"
     },
     "user_tz": -300
    },
    "id": "w4iTvWMzDMoC",
    "outputId": "d4bb117e-b258-4aa8-c4e6-efcdb47048cf"
   },
   "outputs": [
    {
     "data": {
      "text/plain": [
       "((42322, 112), (1339999, 112))"
      ]
     },
     "execution_count": 144,
     "metadata": {},
     "output_type": "execute_result"
    }
   ],
   "source": [
    "shock_data = enriched_data.query('issue_d >= \"2018-03-22\"')\n",
    "base_data = enriched_data.query('issue_d < \"2018-03-22\"')\n",
    "\n",
    "shock_data.shape, base_data.shape"
   ]
  },
  {
   "cell_type": "code",
   "execution_count": null,
   "metadata": {
    "colab": {
     "base_uri": "https://localhost:8080/"
    },
    "executionInfo": {
     "elapsed": 21520,
     "status": "ok",
     "timestamp": 1755074759678,
     "user": {
      "displayName": "Ильяс Варшавский",
      "userId": "01979085533608609891"
     },
     "user_tz": -300
    },
    "id": "ybDJyts58KIX",
    "outputId": "f6d5be6f-77c9-485a-ed16-cf57ae30b65d"
   },
   "outputs": [
    {
     "data": {
      "text/plain": [
       "np.float64(0.09874177146499291)"
      ]
     },
     "execution_count": 145,
     "metadata": {},
     "output_type": "execute_result"
    }
   ],
   "source": [
    "distribution_shift(base_data, shock_data)"
   ]
  },
  {
   "cell_type": "code",
   "execution_count": null,
   "metadata": {
    "colab": {
     "base_uri": "https://localhost:8080/"
    },
    "executionInfo": {
     "elapsed": 5213,
     "status": "ok",
     "timestamp": 1755074968705,
     "user": {
      "displayName": "Ильяс Варшавский",
      "userId": "01979085533608609891"
     },
     "user_tz": -300
    },
    "id": "1ktVGy778TVW",
    "outputId": "7a2658cb-e189-47cb-f4fe-5c0bcd1e91c1"
   },
   "outputs": [
    {
     "data": {
      "text/plain": [
       "((1297677, 112), (42322, 112))"
      ]
     },
     "execution_count": 146,
     "metadata": {},
     "output_type": "execute_result"
    }
   ],
   "source": [
    "base_train_data = base_data[:-42322].copy()\n",
    "base_test_data = base_data[-42322:].copy()\n",
    "\n",
    "base_train_data.reset_index(drop=True, inplace = True)\n",
    "base_test_data.reset_index(drop=True, inplace = True)\n",
    "\n",
    "base_train_data.shape, base_test_data.shape"
   ]
  },
  {
   "cell_type": "markdown",
   "metadata": {
    "id": "GwHGsIGiuphN"
   },
   "source": [
    "# Save Data"
   ]
  },
  {
   "cell_type": "code",
   "execution_count": null,
   "metadata": {
    "id": "37lZOQpsnqYM"
   },
   "outputs": [],
   "source": [
    "base_train_data.to_parquet(prepr_data_folder+'base_train_data.parquet', index=False)\n",
    "base_test_data.to_parquet(prepr_data_folder+'base_test_data.parquet', index=False)"
   ]
  },
  {
   "cell_type": "code",
   "execution_count": null,
   "metadata": {
    "id": "2dZ3aeyJn58V"
   },
   "outputs": [],
   "source": [
    "shock_data.to_parquet(prepr_data_folder+'shock_data.parquet', index=False)"
   ]
  },
  {
   "cell_type": "code",
   "execution_count": null,
   "metadata": {
    "colab": {
     "base_uri": "https://localhost:8080/"
    },
    "executionInfo": {
     "elapsed": 298,
     "status": "ok",
     "timestamp": 1755075220586,
     "user": {
      "displayName": "Ильяс Варшавский",
      "userId": "01979085533608609891"
     },
     "user_tz": -300
    },
    "id": "R39d-tM8oJyI",
    "outputId": "da3fef9d-f335-4a54-a240-f93cf88ce531"
   },
   "outputs": [
    {
     "data": {
      "text/plain": [
       "(50000, 112)"
      ]
     },
     "execution_count": 149,
     "metadata": {},
     "output_type": "execute_result"
    }
   ],
   "source": [
    "sample_base_train_data = base_train_data.sample(50000)\n",
    "sample_base_train_data.shape"
   ]
  },
  {
   "cell_type": "code",
   "execution_count": null,
   "metadata": {
    "id": "Ewm7xqwlopFz"
   },
   "outputs": [],
   "source": [
    "sample_base_train_data.to_parquet(prepr_data_folder+'sample_base_train_data.parquet', index=False)"
   ]
  }
 ],
 "metadata": {
  "colab": {
   "machine_shape": "hm",
   "provenance": [],
   "toc_visible": true
  },
  "kernelspec": {
   "display_name": "Python 3",
   "name": "python3"
  },
  "language_info": {
   "name": "python"
  }
 },
 "nbformat": 4,
 "nbformat_minor": 0
}
